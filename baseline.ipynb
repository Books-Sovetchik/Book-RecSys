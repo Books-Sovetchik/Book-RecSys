{
 "cells": [
  {
   "cell_type": "code",
   "execution_count": 2,
   "metadata": {},
   "outputs": [],
   "source": [
    "import pandas as pd"
   ]
  },
  {
   "cell_type": "code",
   "execution_count": 3,
   "metadata": {},
   "outputs": [],
   "source": [
    "df = pd.read_csv(\"BooksDataset.csv\")\n",
    "df_clean = pd.read_csv(\"BooksDatasetClean.csv\")"
   ]
  },
  {
   "cell_type": "code",
   "execution_count": 4,
   "metadata": {},
   "outputs": [
    {
     "data": {
      "text/plain": [
       "((103082, 7), (103063, 8))"
      ]
     },
     "execution_count": 4,
     "metadata": {},
     "output_type": "execute_result"
    }
   ],
   "source": [
    "df.shape, df_clean.shape"
   ]
  },
  {
   "cell_type": "code",
   "execution_count": 5,
   "metadata": {},
   "outputs": [
    {
     "data": {
      "text/plain": [
       "(Index(['Title', 'Authors', 'Description', 'Category', 'Publisher',\n",
       "        'Publish Date', 'Price'],\n",
       "       dtype='object'),\n",
       " Index(['Title', 'Authors', 'Description', 'Category', 'Publisher',\n",
       "        'Price Starting With ($)', 'Publish Date (Month)',\n",
       "        'Publish Date (Year)'],\n",
       "       dtype='object'))"
      ]
     },
     "execution_count": 5,
     "metadata": {},
     "output_type": "execute_result"
    }
   ],
   "source": [
    "df.columns, df_clean.columns"
   ]
  },
  {
   "cell_type": "code",
   "execution_count": 6,
   "metadata": {},
   "outputs": [
    {
     "data": {
      "text/html": [
       "<div>\n",
       "<style scoped>\n",
       "    .dataframe tbody tr th:only-of-type {\n",
       "        vertical-align: middle;\n",
       "    }\n",
       "\n",
       "    .dataframe tbody tr th {\n",
       "        vertical-align: top;\n",
       "    }\n",
       "\n",
       "    .dataframe thead th {\n",
       "        text-align: right;\n",
       "    }\n",
       "</style>\n",
       "<table border=\"1\" class=\"dataframe\">\n",
       "  <thead>\n",
       "    <tr style=\"text-align: right;\">\n",
       "      <th></th>\n",
       "      <th>Title</th>\n",
       "      <th>Authors</th>\n",
       "      <th>Description</th>\n",
       "      <th>Category</th>\n",
       "      <th>Publisher</th>\n",
       "      <th>Publish Date</th>\n",
       "      <th>Price</th>\n",
       "    </tr>\n",
       "  </thead>\n",
       "  <tbody>\n",
       "    <tr>\n",
       "      <th>count</th>\n",
       "      <td>103082</td>\n",
       "      <td>103082</td>\n",
       "      <td>70213</td>\n",
       "      <td>76912</td>\n",
       "      <td>103074</td>\n",
       "      <td>103082</td>\n",
       "      <td>103082</td>\n",
       "    </tr>\n",
       "    <tr>\n",
       "      <th>unique</th>\n",
       "      <td>97818</td>\n",
       "      <td>63580</td>\n",
       "      <td>68831</td>\n",
       "      <td>3106</td>\n",
       "      <td>13029</td>\n",
       "      <td>956</td>\n",
       "      <td>1387</td>\n",
       "    </tr>\n",
       "    <tr>\n",
       "      <th>top</th>\n",
       "      <td>The Nutcracker</td>\n",
       "      <td>By</td>\n",
       "      <td>For Ingest Only - Data needs to be cleaned up ...</td>\n",
       "      <td>Fiction , General</td>\n",
       "      <td>Simon &amp; Schuster</td>\n",
       "      <td>Thursday, January 1, 2004</td>\n",
       "      <td>Price Starting at $5.29</td>\n",
       "    </tr>\n",
       "    <tr>\n",
       "      <th>freq</th>\n",
       "      <td>12</td>\n",
       "      <td>1043</td>\n",
       "      <td>30</td>\n",
       "      <td>2549</td>\n",
       "      <td>1521</td>\n",
       "      <td>868</td>\n",
       "      <td>41876</td>\n",
       "    </tr>\n",
       "  </tbody>\n",
       "</table>\n",
       "</div>"
      ],
      "text/plain": [
       "                 Title Authors  \\\n",
       "count           103082  103082   \n",
       "unique           97818   63580   \n",
       "top     The Nutcracker      By   \n",
       "freq                12    1043   \n",
       "\n",
       "                                              Description            Category  \\\n",
       "count                                               70213               76912   \n",
       "unique                                              68831                3106   \n",
       "top     For Ingest Only - Data needs to be cleaned up ...   Fiction , General   \n",
       "freq                                                   30                2549   \n",
       "\n",
       "               Publisher               Publish Date                    Price  \n",
       "count             103074                     103082                   103082  \n",
       "unique             13029                        956                     1387  \n",
       "top     Simon & Schuster  Thursday, January 1, 2004  Price Starting at $5.29  \n",
       "freq                1521                        868                    41876  "
      ]
     },
     "execution_count": 6,
     "metadata": {},
     "output_type": "execute_result"
    }
   ],
   "source": [
    "df.describe()"
   ]
  },
  {
   "cell_type": "code",
   "execution_count": 7,
   "metadata": {},
   "outputs": [
    {
     "name": "stdout",
     "output_type": "stream",
     "text": [
      "<class 'pandas.core.frame.DataFrame'>\n",
      "RangeIndex: 103082 entries, 0 to 103081\n",
      "Data columns (total 7 columns):\n",
      " #   Column        Non-Null Count   Dtype \n",
      "---  ------        --------------   ----- \n",
      " 0   Title         103082 non-null  object\n",
      " 1   Authors       103082 non-null  object\n",
      " 2   Description   70213 non-null   object\n",
      " 3   Category      76912 non-null   object\n",
      " 4   Publisher     103074 non-null  object\n",
      " 5   Publish Date  103082 non-null  object\n",
      " 6   Price         103082 non-null  object\n",
      "dtypes: object(7)\n",
      "memory usage: 5.5+ MB\n"
     ]
    }
   ],
   "source": [
    "df.info()"
   ]
  },
  {
   "cell_type": "code",
   "execution_count": 8,
   "metadata": {},
   "outputs": [
    {
     "data": {
      "text/plain": [
       "Category\n",
       "Fiction , General                                                            2549\n",
       "Fiction , Literary                                                           1709\n",
       "Fiction , Mystery & Detective , General                                      1690\n",
       "Fiction , Thrillers , General                                                1115\n",
       "Fiction , Romance , Contemporary                                             1074\n",
       "                                                                             ... \n",
       "Juvenile Fiction , Concepts , Money                                             1\n",
       "Juvenile Nonfiction , People & Places , Caribbean & Latin America               1\n",
       "Fiction , Thrillers , Supernatural                                              1\n",
       "Mathematics , Counting & Numeration                                             1\n",
       "Young Adult Nonfiction , Biography & Autobiography , Science & Technology       1\n",
       "Name: count, Length: 3106, dtype: int64"
      ]
     },
     "execution_count": 8,
     "metadata": {},
     "output_type": "execute_result"
    }
   ],
   "source": [
    "df[\"Category\"].value_counts()"
   ]
  },
  {
   "cell_type": "code",
   "execution_count": 12,
   "metadata": {},
   "outputs": [],
   "source": [
    "wdf = df_clean.copy()\n",
    "wdf[\"Description\"] = wdf[\"Description\"].fillna(wdf[\"Category\"])\n",
    "wdf[\"Description\"] = wdf[\"Description\"].fillna(wdf[\"Title\"])\n",
    "wdf[\"Category\"] = wdf[\"Category\"].fillna(\"\")"
   ]
  },
  {
   "cell_type": "code",
   "execution_count": 13,
   "metadata": {},
   "outputs": [],
   "source": [
    "from sklearn.preprocessing import MultiLabelBinarizer\n",
    "\n",
    "wdf['Category_list'] = wdf['Category'].str.split(' , ')\n",
    "wdf['Category_list'] = wdf['Category_list'].apply(lambda arr: [s.strip() for s in arr])\n"
   ]
  },
  {
   "cell_type": "code",
   "execution_count": 14,
   "metadata": {},
   "outputs": [
    {
     "data": {
      "text/html": [
       "<div>\n",
       "<style scoped>\n",
       "    .dataframe tbody tr th:only-of-type {\n",
       "        vertical-align: middle;\n",
       "    }\n",
       "\n",
       "    .dataframe tbody tr th {\n",
       "        vertical-align: top;\n",
       "    }\n",
       "\n",
       "    .dataframe thead th {\n",
       "        text-align: right;\n",
       "    }\n",
       "</style>\n",
       "<table border=\"1\" class=\"dataframe\">\n",
       "  <thead>\n",
       "    <tr style=\"text-align: right;\">\n",
       "      <th></th>\n",
       "      <th>Title</th>\n",
       "      <th>Authors</th>\n",
       "      <th>Description</th>\n",
       "      <th>Category</th>\n",
       "      <th>Publisher</th>\n",
       "      <th>Price Starting With ($)</th>\n",
       "      <th>Publish Date (Month)</th>\n",
       "      <th>Publish Date (Year)</th>\n",
       "      <th>Category_list</th>\n",
       "    </tr>\n",
       "  </thead>\n",
       "  <tbody>\n",
       "    <tr>\n",
       "      <th>0</th>\n",
       "      <td>Goat Brothers</td>\n",
       "      <td>By Colton, Larry</td>\n",
       "      <td>History , General</td>\n",
       "      <td>History , General</td>\n",
       "      <td>Doubleday</td>\n",
       "      <td>8.79</td>\n",
       "      <td>January</td>\n",
       "      <td>1993</td>\n",
       "      <td>[History, General]</td>\n",
       "    </tr>\n",
       "    <tr>\n",
       "      <th>1</th>\n",
       "      <td>The Missing Person</td>\n",
       "      <td>By Grumbach, Doris</td>\n",
       "      <td>Fiction , General</td>\n",
       "      <td>Fiction , General</td>\n",
       "      <td>Putnam Pub Group</td>\n",
       "      <td>4.99</td>\n",
       "      <td>March</td>\n",
       "      <td>1981</td>\n",
       "      <td>[Fiction, General]</td>\n",
       "    </tr>\n",
       "    <tr>\n",
       "      <th>2</th>\n",
       "      <td>Don't Eat Your Heart Out Cookbook</td>\n",
       "      <td>By Piscatella, Joseph C.</td>\n",
       "      <td>Cooking , Reference</td>\n",
       "      <td>Cooking , Reference</td>\n",
       "      <td>Workman Pub Co</td>\n",
       "      <td>4.99</td>\n",
       "      <td>September</td>\n",
       "      <td>1983</td>\n",
       "      <td>[Cooking, Reference]</td>\n",
       "    </tr>\n",
       "    <tr>\n",
       "      <th>3</th>\n",
       "      <td>When Your Corporate Umbrella Begins to Leak: A...</td>\n",
       "      <td>By Davis, Paul D.</td>\n",
       "      <td>When Your Corporate Umbrella Begins to Leak: A...</td>\n",
       "      <td></td>\n",
       "      <td>Natl Pr Books</td>\n",
       "      <td>4.99</td>\n",
       "      <td>April</td>\n",
       "      <td>1991</td>\n",
       "      <td>[]</td>\n",
       "    </tr>\n",
       "    <tr>\n",
       "      <th>4</th>\n",
       "      <td>Amy Spangler's Breastfeeding : A Parent's Guide</td>\n",
       "      <td>By Spangler, Amy</td>\n",
       "      <td>Amy Spangler's Breastfeeding : A Parent's Guide</td>\n",
       "      <td></td>\n",
       "      <td>Amy Spangler</td>\n",
       "      <td>5.32</td>\n",
       "      <td>February</td>\n",
       "      <td>1997</td>\n",
       "      <td>[]</td>\n",
       "    </tr>\n",
       "  </tbody>\n",
       "</table>\n",
       "</div>"
      ],
      "text/plain": [
       "                                               Title  \\\n",
       "0                                      Goat Brothers   \n",
       "1                                 The Missing Person   \n",
       "2                  Don't Eat Your Heart Out Cookbook   \n",
       "3  When Your Corporate Umbrella Begins to Leak: A...   \n",
       "4    Amy Spangler's Breastfeeding : A Parent's Guide   \n",
       "\n",
       "                    Authors  \\\n",
       "0          By Colton, Larry   \n",
       "1        By Grumbach, Doris   \n",
       "2  By Piscatella, Joseph C.   \n",
       "3         By Davis, Paul D.   \n",
       "4          By Spangler, Amy   \n",
       "\n",
       "                                         Description              Category  \\\n",
       "0                                  History , General     History , General   \n",
       "1                                  Fiction , General     Fiction , General   \n",
       "2                                Cooking , Reference   Cooking , Reference   \n",
       "3  When Your Corporate Umbrella Begins to Leak: A...                         \n",
       "4    Amy Spangler's Breastfeeding : A Parent's Guide                         \n",
       "\n",
       "          Publisher  Price Starting With ($) Publish Date (Month)  \\\n",
       "0         Doubleday                     8.79              January   \n",
       "1  Putnam Pub Group                     4.99                March   \n",
       "2    Workman Pub Co                     4.99            September   \n",
       "3     Natl Pr Books                     4.99                April   \n",
       "4      Amy Spangler                     5.32             February   \n",
       "\n",
       "   Publish Date (Year)         Category_list  \n",
       "0                 1993    [History, General]  \n",
       "1                 1981    [Fiction, General]  \n",
       "2                 1983  [Cooking, Reference]  \n",
       "3                 1991                    []  \n",
       "4                 1997                    []  "
      ]
     },
     "execution_count": 14,
     "metadata": {},
     "output_type": "execute_result"
    }
   ],
   "source": [
    "wdf.head()"
   ]
  },
  {
   "cell_type": "code",
   "execution_count": 15,
   "metadata": {},
   "outputs": [],
   "source": [
    "\n",
    "mlb = MultiLabelBinarizer()\n",
    "encoded_categories = mlb.fit_transform(wdf['Category_list'])\n",
    "\n",
    "encoded_df = pd.DataFrame(encoded_categories, columns=mlb.classes_)\n",
    "\n",
    "wdf = pd.concat([wdf, encoded_df], axis=1)\n"
   ]
  },
  {
   "cell_type": "code",
   "execution_count": 16,
   "metadata": {},
   "outputs": [
    {
     "name": "stderr",
     "output_type": "stream",
     "text": [
      "d:\\programm_files\\anaconda\\Lib\\site-packages\\transformers\\tokenization_utils_base.py:1601: FutureWarning: `clean_up_tokenization_spaces` was not set. It will be set to `True` by default. This behavior will be depracted in transformers v4.45, and will be then set to `False` by default. For more details check this issue: https://github.com/huggingface/transformers/issues/31884\n",
      "  warnings.warn(\n"
     ]
    }
   ],
   "source": [
    "# importing libraries\n",
    "import random\n",
    "import torch\n",
    "from transformers import BertTokenizer, BertModel\n",
    "from sklearn.metrics.pairwise import cosine_similarity\n",
    "\n",
    "\n",
    "# Set a random seed\n",
    "random_seed = 42\n",
    "random.seed(random_seed)\n",
    "\n",
    "# Set a random seed for PyTorch (for GPU as well)\n",
    "torch.manual_seed(random_seed)\n",
    "if torch.cuda.is_available():\n",
    "    torch.cuda.manual_seed_all(random_seed)\n",
    "\n",
    "\n",
    "# Load BERT tokenizer and model\n",
    "tokenizer = BertTokenizer.from_pretrained('bert-base-uncased')\n",
    "model = BertModel.from_pretrained('bert-base-uncased')\n"
   ]
  },
  {
   "cell_type": "code",
   "execution_count": 17,
   "metadata": {},
   "outputs": [
    {
     "data": {
      "text/plain": [
       "torch.Size([1, 768])"
      ]
     },
     "execution_count": 17,
     "metadata": {},
     "output_type": "execute_result"
    }
   ],
   "source": [
    "\n",
    "\n",
    "def product_text_embedding(text):\n",
    "    encoding = tokenizer.batch_encode_plus( [text],\n",
    "        padding=True,              \n",
    "        truncation=True,           \n",
    "        return_tensors='pt',      \n",
    "        add_special_tokens=True    \n",
    "    )\n",
    "\n",
    "    input_ids = encoding['input_ids'] \n",
    "    attention_mask = encoding['attention_mask']\n",
    "\n",
    "    with torch.no_grad():\n",
    "        outputs = model(input_ids, attention_mask=attention_mask)\n",
    "        word_embeddings = outputs.last_hidden_state \n",
    "\n",
    "    sentence_embedding = word_embeddings.mean(dim=1)\n",
    "    return sentence_embedding\n",
    "\n",
    "\n",
    "text = \"Check working\"\n",
    "\n",
    "\n",
    "product_text_embedding(text).shape"
   ]
  },
  {
   "cell_type": "code",
   "execution_count": 18,
   "metadata": {},
   "outputs": [
    {
     "data": {
      "text/html": [
       "<div>\n",
       "<style scoped>\n",
       "    .dataframe tbody tr th:only-of-type {\n",
       "        vertical-align: middle;\n",
       "    }\n",
       "\n",
       "    .dataframe tbody tr th {\n",
       "        vertical-align: top;\n",
       "    }\n",
       "\n",
       "    .dataframe thead th {\n",
       "        text-align: right;\n",
       "    }\n",
       "</style>\n",
       "<table border=\"1\" class=\"dataframe\">\n",
       "  <thead>\n",
       "    <tr style=\"text-align: right;\">\n",
       "      <th></th>\n",
       "      <th>Title</th>\n",
       "      <th>Description</th>\n",
       "      <th></th>\n",
       "      <th>17th Century</th>\n",
       "      <th>18th Century</th>\n",
       "      <th>19th Century</th>\n",
       "      <th>20th Century</th>\n",
       "      <th>21st Century</th>\n",
       "      <th>A+</th>\n",
       "      <th>ACT</th>\n",
       "      <th>...</th>\n",
       "      <th>XML</th>\n",
       "      <th>Yearbooks &amp; Annuals</th>\n",
       "      <th>Yiddish</th>\n",
       "      <th>Yoga</th>\n",
       "      <th>Young Adult Fiction</th>\n",
       "      <th>Young Adult Nonfiction</th>\n",
       "      <th>Youth</th>\n",
       "      <th>Zen</th>\n",
       "      <th>Zoology</th>\n",
       "      <th>Zoos</th>\n",
       "    </tr>\n",
       "  </thead>\n",
       "  <tbody>\n",
       "    <tr>\n",
       "      <th>0</th>\n",
       "      <td>Goat Brothers</td>\n",
       "      <td>History , General</td>\n",
       "      <td>0</td>\n",
       "      <td>0</td>\n",
       "      <td>0</td>\n",
       "      <td>0</td>\n",
       "      <td>0</td>\n",
       "      <td>0</td>\n",
       "      <td>0</td>\n",
       "      <td>0</td>\n",
       "      <td>...</td>\n",
       "      <td>0</td>\n",
       "      <td>0</td>\n",
       "      <td>0</td>\n",
       "      <td>0</td>\n",
       "      <td>0</td>\n",
       "      <td>0</td>\n",
       "      <td>0</td>\n",
       "      <td>0</td>\n",
       "      <td>0</td>\n",
       "      <td>0</td>\n",
       "    </tr>\n",
       "    <tr>\n",
       "      <th>1</th>\n",
       "      <td>The Missing Person</td>\n",
       "      <td>Fiction , General</td>\n",
       "      <td>0</td>\n",
       "      <td>0</td>\n",
       "      <td>0</td>\n",
       "      <td>0</td>\n",
       "      <td>0</td>\n",
       "      <td>0</td>\n",
       "      <td>0</td>\n",
       "      <td>0</td>\n",
       "      <td>...</td>\n",
       "      <td>0</td>\n",
       "      <td>0</td>\n",
       "      <td>0</td>\n",
       "      <td>0</td>\n",
       "      <td>0</td>\n",
       "      <td>0</td>\n",
       "      <td>0</td>\n",
       "      <td>0</td>\n",
       "      <td>0</td>\n",
       "      <td>0</td>\n",
       "    </tr>\n",
       "    <tr>\n",
       "      <th>2</th>\n",
       "      <td>Don't Eat Your Heart Out Cookbook</td>\n",
       "      <td>Cooking , Reference</td>\n",
       "      <td>0</td>\n",
       "      <td>0</td>\n",
       "      <td>0</td>\n",
       "      <td>0</td>\n",
       "      <td>0</td>\n",
       "      <td>0</td>\n",
       "      <td>0</td>\n",
       "      <td>0</td>\n",
       "      <td>...</td>\n",
       "      <td>0</td>\n",
       "      <td>0</td>\n",
       "      <td>0</td>\n",
       "      <td>0</td>\n",
       "      <td>0</td>\n",
       "      <td>0</td>\n",
       "      <td>0</td>\n",
       "      <td>0</td>\n",
       "      <td>0</td>\n",
       "      <td>0</td>\n",
       "    </tr>\n",
       "    <tr>\n",
       "      <th>3</th>\n",
       "      <td>When Your Corporate Umbrella Begins to Leak: A...</td>\n",
       "      <td>When Your Corporate Umbrella Begins to Leak: A...</td>\n",
       "      <td>1</td>\n",
       "      <td>0</td>\n",
       "      <td>0</td>\n",
       "      <td>0</td>\n",
       "      <td>0</td>\n",
       "      <td>0</td>\n",
       "      <td>0</td>\n",
       "      <td>0</td>\n",
       "      <td>...</td>\n",
       "      <td>0</td>\n",
       "      <td>0</td>\n",
       "      <td>0</td>\n",
       "      <td>0</td>\n",
       "      <td>0</td>\n",
       "      <td>0</td>\n",
       "      <td>0</td>\n",
       "      <td>0</td>\n",
       "      <td>0</td>\n",
       "      <td>0</td>\n",
       "    </tr>\n",
       "    <tr>\n",
       "      <th>4</th>\n",
       "      <td>Amy Spangler's Breastfeeding : A Parent's Guide</td>\n",
       "      <td>Amy Spangler's Breastfeeding : A Parent's Guide</td>\n",
       "      <td>1</td>\n",
       "      <td>0</td>\n",
       "      <td>0</td>\n",
       "      <td>0</td>\n",
       "      <td>0</td>\n",
       "      <td>0</td>\n",
       "      <td>0</td>\n",
       "      <td>0</td>\n",
       "      <td>...</td>\n",
       "      <td>0</td>\n",
       "      <td>0</td>\n",
       "      <td>0</td>\n",
       "      <td>0</td>\n",
       "      <td>0</td>\n",
       "      <td>0</td>\n",
       "      <td>0</td>\n",
       "      <td>0</td>\n",
       "      <td>0</td>\n",
       "      <td>0</td>\n",
       "    </tr>\n",
       "  </tbody>\n",
       "</table>\n",
       "<p>5 rows × 2005 columns</p>\n",
       "</div>"
      ],
      "text/plain": [
       "                                               Title  \\\n",
       "0                                      Goat Brothers   \n",
       "1                                 The Missing Person   \n",
       "2                  Don't Eat Your Heart Out Cookbook   \n",
       "3  When Your Corporate Umbrella Begins to Leak: A...   \n",
       "4    Amy Spangler's Breastfeeding : A Parent's Guide   \n",
       "\n",
       "                                         Description     17th Century  \\\n",
       "0                                  History , General  0             0   \n",
       "1                                  Fiction , General  0             0   \n",
       "2                                Cooking , Reference  0             0   \n",
       "3  When Your Corporate Umbrella Begins to Leak: A...  1             0   \n",
       "4    Amy Spangler's Breastfeeding : A Parent's Guide  1             0   \n",
       "\n",
       "   18th Century  19th Century  20th Century  21st Century  A+  ACT  ...  XML  \\\n",
       "0             0             0             0             0   0    0  ...    0   \n",
       "1             0             0             0             0   0    0  ...    0   \n",
       "2             0             0             0             0   0    0  ...    0   \n",
       "3             0             0             0             0   0    0  ...    0   \n",
       "4             0             0             0             0   0    0  ...    0   \n",
       "\n",
       "   Yearbooks & Annuals  Yiddish  Yoga  Young Adult Fiction  \\\n",
       "0                    0        0     0                    0   \n",
       "1                    0        0     0                    0   \n",
       "2                    0        0     0                    0   \n",
       "3                    0        0     0                    0   \n",
       "4                    0        0     0                    0   \n",
       "\n",
       "   Young Adult Nonfiction  Youth  Zen  Zoology  Zoos  \n",
       "0                       0      0    0        0     0  \n",
       "1                       0      0    0        0     0  \n",
       "2                       0      0    0        0     0  \n",
       "3                       0      0    0        0     0  \n",
       "4                       0      0    0        0     0  \n",
       "\n",
       "[5 rows x 2005 columns]"
      ]
     },
     "execution_count": 18,
     "metadata": {},
     "output_type": "execute_result"
    }
   ],
   "source": [
    "exp_df = wdf.copy()\n",
    "\n",
    "exp_df = exp_df.drop(columns=['Authors', 'Category', 'Category_list', 'Publisher', 'Price Starting With ($)', 'Publish Date (Month)', 'Publish Date (Year)'])\n",
    "\n",
    "exp_df.head()"
   ]
  },
  {
   "cell_type": "code",
   "execution_count": 59,
   "metadata": {},
   "outputs": [],
   "source": [
    "from sklearn.metrics.pairwise import cosine_similarity\n",
    "import numpy as np\n",
    "\n",
    "def create_new_dataframe(df):\n",
    "  new_df = pd.DataFrame()\n",
    "  numerical_cols = df.select_dtypes(include=np.number).columns\n",
    "\n",
    "  length = df.shape[0]\n",
    "  for index, row in df.iterrows():\n",
    "    vector = product_text_embedding(row['Description']).reshape(768)\n",
    "    numerical_values = row[numerical_cols].values\n",
    "    name = row['Title']  \n",
    "\n",
    "    combined_vector = np.concatenate((vector, numerical_values))  \n",
    "\n",
    "    new_df = pd.concat([new_df, pd.DataFrame({'book_embedding': [combined_vector], \n",
    "                                            'name': [name]})], ignore_index=True)\n",
    "    \n",
    "    print(index/length, end='\\r')\n",
    "\n",
    "  return new_df\n",
    "\n",
    "def find_closest_records(record, new_df, n=5):\n",
    "  record_vector = record['book_embedding']\n",
    "\n",
    "  distances = []\n",
    "  names = []\n",
    "\n",
    "  length = new_df.shape[0]\n",
    "  for index, row in new_df.iterrows():\n",
    "    other_vector = row['book_embedding']\n",
    "\n",
    "    similarity = cosine_similarity(record_vector.reshape(1, -1), other_vector.reshape(1, -1))[0][0]\n",
    "\n",
    "    distance = 1 - similarity\n",
    "\n",
    "    distances.append(distance)\n",
    "    names.append(row['name'])\n",
    "    \n",
    "    print(index/length, end='\\r')\n",
    "\n",
    "  sorted_indices = sorted(range(len(distances)), key=lambda k: distances[k])\n",
    "  \n",
    "  closest_names = [names[i] for i in sorted_indices[:n]]\n",
    "  closest_distances = [distances[i] for i in sorted_indices[:n]]\n",
    "\n",
    "  return closest_names, closest_distances "
   ]
  },
  {
   "cell_type": "code",
   "execution_count": 40,
   "metadata": {},
   "outputs": [
    {
     "name": "stdout",
     "output_type": "stream",
     "text": [
      "0.99999029719686025657\r"
     ]
    }
   ],
   "source": [
    "new_df = create_new_dataframe(exp_df)"
   ]
  },
  {
   "cell_type": "code",
   "execution_count": 47,
   "metadata": {},
   "outputs": [
    {
     "data": {
      "text/plain": [
       "(103063,)"
      ]
     },
     "execution_count": 47,
     "metadata": {},
     "output_type": "execute_result"
    }
   ],
   "source": [
    "new_df['book_embedding'].shape"
   ]
  },
  {
   "cell_type": "code",
   "execution_count": 49,
   "metadata": {},
   "outputs": [
    {
     "data": {
      "text/plain": [
       "285.587573"
      ]
     },
     "execution_count": 49,
     "metadata": {},
     "output_type": "execute_result"
    }
   ],
   "source": [
    "2771 * 103063 / 1000000"
   ]
  },
  {
   "cell_type": "code",
   "execution_count": 51,
   "metadata": {},
   "outputs": [],
   "source": [
    "new_df.to_csv('new_df.csv', index=False)\n",
    "new_df.to_csv('book_embeddings.csv', index=True)"
   ]
  },
  {
   "cell_type": "code",
   "execution_count": 67,
   "metadata": {},
   "outputs": [
    {
     "data": {
      "text/plain": [
       "book_embedding    [-0.33744266629219055, 0.36259767413139343, 0....\n",
       "name                                         Writing Was Everything\n",
       "Name: 9809, dtype: object"
      ]
     },
     "execution_count": 67,
     "metadata": {},
     "output_type": "execute_result"
    }
   ],
   "source": [
    "new_df.iloc[9809]"
   ]
  },
  {
   "cell_type": "code",
   "execution_count": 68,
   "metadata": {},
   "outputs": [
    {
     "name": "stdout",
     "output_type": "stream",
     "text": [
      "0.99999029719686025657\r"
     ]
    },
    {
     "data": {
      "text/plain": [
       "(['Writing Was Everything',\n",
       "  'Readings',\n",
       "  'Living by Fiction',\n",
       "  \"The Style's the Man: Reflections on Proust, Fitzgerald, Wharton, Vidal, and Others\",\n",
       "  'Jafsie and John Henry: Essays',\n",
       "  'Walt Whitman: The Song of Himself',\n",
       "  'Penchants and Places: Essays and Criticism',\n",
       "  \"Why Kerouac Matters: The Lessons of On the Road (They're Not What You Think)\",\n",
       "  'An American Procession',\n",
       "  'The Best American Spiritual Writing 2006 (The Best American Series)'],\n",
       " [-8.881784197001252e-16,\n",
       "  0.04478843953272027,\n",
       "  0.04814461994689079,\n",
       "  0.05072595540718339,\n",
       "  0.05231547279624038,\n",
       "  0.06466600989494808,\n",
       "  0.06471385790572293,\n",
       "  0.06644086051241072,\n",
       "  0.0666229453083158,\n",
       "  0.06724310170713488])"
      ]
     },
     "execution_count": 68,
     "metadata": {},
     "output_type": "execute_result"
    }
   ],
   "source": [
    "find_closest_records(new_df.iloc[9809], new_df, n=10)"
   ]
  },
  {
   "cell_type": "code",
   "execution_count": 38,
   "metadata": {},
   "outputs": [
    {
     "data": {
      "text/plain": [
       "(103063, 2005)"
      ]
     },
     "execution_count": 38,
     "metadata": {},
     "output_type": "execute_result"
    }
   ],
   "source": [
    "exp_df.shape"
   ]
  }
 ],
 "metadata": {
  "kernelspec": {
   "display_name": "base",
   "language": "python",
   "name": "python3"
  },
  "language_info": {
   "codemirror_mode": {
    "name": "ipython",
    "version": 3
   },
   "file_extension": ".py",
   "mimetype": "text/x-python",
   "name": "python",
   "nbconvert_exporter": "python",
   "pygments_lexer": "ipython3",
   "version": "3.12.4"
  }
 },
 "nbformat": 4,
 "nbformat_minor": 2
}
