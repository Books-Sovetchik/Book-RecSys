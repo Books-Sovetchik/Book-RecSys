{
 "cells": [
  {
   "cell_type": "code",
   "execution_count": 6,
   "metadata": {},
   "outputs": [],
   "source": [
    "import pandas as pd"
   ]
  },
  {
   "cell_type": "code",
   "execution_count": 7,
   "metadata": {},
   "outputs": [],
   "source": [
    "df = pd.read_csv(\"Datasets/BooksDataset.csv\")\n",
    "df_clean = pd.read_csv(\"Datasets/BooksDatasetClean.csv\")"
   ]
  },
  {
   "cell_type": "code",
   "execution_count": null,
   "metadata": {},
   "outputs": [],
   "source": [
    "df.shape, df_clean.shape"
   ]
  },
  {
   "cell_type": "code",
   "execution_count": null,
   "metadata": {},
   "outputs": [],
   "source": [
    "df.columns, df_clean.columns"
   ]
  },
  {
   "cell_type": "code",
   "execution_count": null,
   "metadata": {},
   "outputs": [],
   "source": [
    "df.describe()"
   ]
  },
  {
   "cell_type": "code",
   "execution_count": null,
   "metadata": {},
   "outputs": [],
   "source": [
    "df.info()"
   ]
  },
  {
   "cell_type": "code",
   "execution_count": null,
   "metadata": {},
   "outputs": [],
   "source": [
    "df[\"Category\"].value_counts()"
   ]
  },
  {
   "cell_type": "code",
   "execution_count": 13,
   "metadata": {},
   "outputs": [],
   "source": [
    "wdf = df_clean.copy()\n",
    "wdf[\"Description\"] = wdf[\"Description\"].fillna(wdf[\"Category\"])\n",
    "wdf[\"Description\"] = wdf[\"Description\"].fillna(wdf[\"Title\"])\n",
    "wdf[\"Category\"] = wdf[\"Category\"].fillna(\"\")"
   ]
  },
  {
   "cell_type": "code",
   "execution_count": 14,
   "metadata": {},
   "outputs": [],
   "source": [
    "from sklearn.preprocessing import MultiLabelBinarizer\n",
    "\n",
    "wdf['Category_list'] = wdf['Category'].str.split(' , ')\n",
    "wdf['Category_list'] = wdf['Category_list'].apply(lambda arr: [s.strip() for s in arr])\n"
   ]
  },
  {
   "cell_type": "code",
   "execution_count": null,
   "metadata": {},
   "outputs": [],
   "source": [
    "wdf.head()"
   ]
  },
  {
   "cell_type": "code",
   "execution_count": 16,
   "metadata": {},
   "outputs": [],
   "source": [
    "\n",
    "mlb = MultiLabelBinarizer()\n",
    "encoded_categories = mlb.fit_transform(wdf['Category_list'])\n",
    "\n",
    "encoded_df = pd.DataFrame(encoded_categories, columns=mlb.classes_)\n",
    "\n",
    "wdf = pd.concat([wdf, encoded_df], axis=1)\n"
   ]
  },
  {
   "cell_type": "code",
   "execution_count": null,
   "metadata": {},
   "outputs": [],
   "source": [
    "# importing libraries\n",
    "import random\n",
    "import torch\n",
    "from transformers import BertTokenizer, BertModel\n",
    "from sklearn.metrics.pairwise import cosine_similarity\n",
    "\n",
    "\n",
    "# Set a random seed\n",
    "random_seed = 42\n",
    "random.seed(random_seed)\n",
    "\n",
    "# Set a random seed for PyTorch (for GPU as well)\n",
    "torch.manual_seed(random_seed)\n",
    "if torch.cuda.is_available():\n",
    "    torch.cuda.manual_seed_all(random_seed)\n",
    "\n",
    "device = torch.device('cuda' if torch.cuda.is_available() else 'cpu')\n",
    "# Load BERT tokenizer and model\n",
    "tokenizer = BertTokenizer.from_pretrained('bert-base-uncased')\n",
    "model = BertModel.from_pretrained('bert-base-uncased').to(device)\n"
   ]
  },
  {
   "cell_type": "code",
   "execution_count": null,
   "metadata": {},
   "outputs": [],
   "source": [
    "def product_text_embedding(text):\n",
    "    encoding = tokenizer.batch_encode_plus(\n",
    "        [text],\n",
    "        padding=True,              \n",
    "        truncation=True,           \n",
    "        return_tensors='pt',      \n",
    "        add_special_tokens=True    \n",
    "    )\n",
    "\n",
    "    input_ids = encoding['input_ids'].to(device)\n",
    "    attention_mask = encoding['attention_mask'].to(device)\n",
    "\n",
    "    with torch.no_grad():\n",
    "        outputs = model(input_ids, attention_mask=attention_mask)\n",
    "        word_embeddings = outputs.last_hidden_state  \n",
    "\n",
    "    sentence_embedding = word_embeddings.mean(dim=1)\n",
    "\n",
    "    return sentence_embedding.cpu() \n",
    "\n",
    "\n",
    "text = \"Check working\"\n",
    "\n",
    "\n",
    "product_text_embedding(text).shape"
   ]
  },
  {
   "cell_type": "code",
   "execution_count": null,
   "metadata": {},
   "outputs": [],
   "source": [
    "exp_df = wdf.copy()\n",
    "\n",
    "exp_df = exp_df.drop(columns=['Authors', 'Category', 'Category_list', 'Publisher', 'Price Starting With ($)', 'Publish Date (Month)', 'Publish Date (Year)'])\n",
    "\n",
    "exp_df.head()"
   ]
  },
  {
   "cell_type": "code",
   "execution_count": 20,
   "metadata": {},
   "outputs": [],
   "source": [
    "from sklearn.metrics.pairwise import cosine_similarity\n",
    "import numpy as np\n",
    "\n",
    "import pandas as pd\n",
    "import numpy as np\n",
    "\n",
    "def create_new_dataframe(df):\n",
    "    new_df = pd.DataFrame()\n",
    "    numerical_cols = df.select_dtypes(include=np.number).columns\n",
    "\n",
    "    length = df.shape[0]\n",
    "    for index, row in df.iterrows():\n",
    "        vector = product_text_embedding(row['Description']).reshape(768)\n",
    "\n",
    "        numerical_values = row[numerical_cols].values\n",
    "        name = row['Title']\n",
    "\n",
    "        combined_vector = np.concatenate((vector, numerical_values))\n",
    "\n",
    "        vector_str = ','.join(map(str, combined_vector))\n",
    "\n",
    "        new_row = pd.DataFrame({'book_embedding': [vector_str], 'name': [name]})\n",
    "        new_df = pd.concat([new_df, new_row], ignore_index=True)\n",
    "\n",
    "        print(f'Progress: {index / length:.2%}', end='\\r')\n",
    "\n",
    "    return new_df\n",
    "\n",
    "\n",
    "\n",
    "def parse_embedding(embedding_str):\n",
    "    \"\"\"Convert the string of comma-separated floats into a NumPy array.\"\"\"\n",
    "    return np.array([float(x) for x in embedding_str.split(',')])\n",
    "\n",
    "def find_closest_records(record, new_df, n=5):\n",
    "    record_vector = parse_embedding(record['book_embedding']).reshape(1, -1)\n",
    "\n",
    "    distances = []\n",
    "    names = []\n",
    "\n",
    "    length = new_df.shape[0]\n",
    "    for index, row in new_df.iterrows():\n",
    "        other_vector = parse_embedding(row['book_embedding']).reshape(1, -1)\n",
    "\n",
    "        similarity = cosine_similarity(record_vector, other_vector)[0][0]\n",
    "\n",
    "        distance = 1 - similarity\n",
    "\n",
    "        distances.append(distance)\n",
    "        names.append(row['name'])\n",
    "        \n",
    "        print(f'Progress: {index / length:.2%}', end='\\r')\n",
    "\n",
    "    sorted_indices = sorted(range(len(distances)), key=lambda k: distances[k])\n",
    "    closest_names = [names[i] for i in sorted_indices[:n]]\n",
    "\n",
    "    return closest_names"
   ]
  },
  {
   "cell_type": "code",
   "execution_count": null,
   "metadata": {},
   "outputs": [],
   "source": [
    "new_df = create_new_dataframe(exp_df)"
   ]
  },
  {
   "cell_type": "code",
   "execution_count": null,
   "metadata": {},
   "outputs": [],
   "source": [
    "new_df.head()"
   ]
  },
  {
   "cell_type": "code",
   "execution_count": null,
   "metadata": {},
   "outputs": [],
   "source": [
    "new_df['book_embedding'].shape"
   ]
  },
  {
   "cell_type": "code",
   "execution_count": null,
   "metadata": {},
   "outputs": [],
   "source": [
    "2771 * 103063 / 1000000"
   ]
  },
  {
   "cell_type": "code",
   "execution_count": null,
   "metadata": {},
   "outputs": [],
   "source": [
    "new_df.to_csv('books_embeddings.csv', index=False)"
   ]
  },
  {
   "cell_type": "code",
   "execution_count": 23,
   "metadata": {},
   "outputs": [],
   "source": [
    "load_df = pd.read_csv(\"books_embeddings.csv\")"
   ]
  },
  {
   "cell_type": "code",
   "execution_count": null,
   "metadata": {},
   "outputs": [],
   "source": [
    "find_closest_records(load_df.iloc[0], load_df, n=10)"
   ]
  }
 ],
 "metadata": {
  "kernelspec": {
   "display_name": "Python 3",
   "language": "python",
   "name": "python3"
  },
  "language_info": {
   "codemirror_mode": {
    "name": "ipython",
    "version": 3
   },
   "file_extension": ".py",
   "mimetype": "text/x-python",
   "name": "python",
   "nbconvert_exporter": "python",
   "pygments_lexer": "ipython3",
   "version": "3.12.6"
  }
 },
 "nbformat": 4,
 "nbformat_minor": 2
}
