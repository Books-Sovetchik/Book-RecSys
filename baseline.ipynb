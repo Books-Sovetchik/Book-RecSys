{
 "cells": [
  {
   "cell_type": "code",
   "execution_count": 32,
   "metadata": {},
   "outputs": [],
   "source": [
    "import pandas as pd\n",
    "import numpy as np"
   ]
  },
  {
   "cell_type": "code",
   "execution_count": 9,
   "metadata": {},
   "outputs": [],
   "source": [
    "dataset = pd.read_csv(\"Datasets/BooksDatasetClean.csv\")"
   ]
  },
  {
   "cell_type": "markdown",
   "metadata": {},
   "source": [
    "### Simply preprocess for dataset\n",
    "\n",
    "- Fill in some missing values\n",
    "- Split all categories into separate columns of categories\n",
    "- Delete redundant columns"
   ]
  },
  {
   "cell_type": "code",
   "execution_count": 23,
   "metadata": {},
   "outputs": [
    {
     "data": {
      "text/html": [
       "<div>\n",
       "<style scoped>\n",
       "    .dataframe tbody tr th:only-of-type {\n",
       "        vertical-align: middle;\n",
       "    }\n",
       "\n",
       "    .dataframe tbody tr th {\n",
       "        vertical-align: top;\n",
       "    }\n",
       "\n",
       "    .dataframe thead th {\n",
       "        text-align: right;\n",
       "    }\n",
       "</style>\n",
       "<table border=\"1\" class=\"dataframe\">\n",
       "  <thead>\n",
       "    <tr style=\"text-align: right;\">\n",
       "      <th></th>\n",
       "      <th>Title</th>\n",
       "      <th>Description</th>\n",
       "      <th></th>\n",
       "      <th>17th Century</th>\n",
       "      <th>18th Century</th>\n",
       "      <th>19th Century</th>\n",
       "      <th>20th Century</th>\n",
       "      <th>21st Century</th>\n",
       "      <th>A+</th>\n",
       "      <th>ACT</th>\n",
       "      <th>...</th>\n",
       "      <th>XML</th>\n",
       "      <th>Yearbooks &amp; Annuals</th>\n",
       "      <th>Yiddish</th>\n",
       "      <th>Yoga</th>\n",
       "      <th>Young Adult Fiction</th>\n",
       "      <th>Young Adult Nonfiction</th>\n",
       "      <th>Youth</th>\n",
       "      <th>Zen</th>\n",
       "      <th>Zoology</th>\n",
       "      <th>Zoos</th>\n",
       "    </tr>\n",
       "  </thead>\n",
       "  <tbody>\n",
       "    <tr>\n",
       "      <th>0</th>\n",
       "      <td>Goat Brothers</td>\n",
       "      <td>History , General</td>\n",
       "      <td>0</td>\n",
       "      <td>0</td>\n",
       "      <td>0</td>\n",
       "      <td>0</td>\n",
       "      <td>0</td>\n",
       "      <td>0</td>\n",
       "      <td>0</td>\n",
       "      <td>0</td>\n",
       "      <td>...</td>\n",
       "      <td>0</td>\n",
       "      <td>0</td>\n",
       "      <td>0</td>\n",
       "      <td>0</td>\n",
       "      <td>0</td>\n",
       "      <td>0</td>\n",
       "      <td>0</td>\n",
       "      <td>0</td>\n",
       "      <td>0</td>\n",
       "      <td>0</td>\n",
       "    </tr>\n",
       "  </tbody>\n",
       "</table>\n",
       "<p>1 rows × 2005 columns</p>\n",
       "</div>"
      ],
      "text/plain": [
       "           Title         Description     17th Century  18th Century  \\\n",
       "0  Goat Brothers   History , General  0             0             0   \n",
       "\n",
       "   19th Century  20th Century  21st Century  A+  ACT  ...  XML  \\\n",
       "0             0             0             0   0    0  ...    0   \n",
       "\n",
       "   Yearbooks & Annuals  Yiddish  Yoga  Young Adult Fiction  \\\n",
       "0                    0        0     0                    0   \n",
       "\n",
       "   Young Adult Nonfiction  Youth  Zen  Zoology  Zoos  \n",
       "0                       0      0    0        0     0  \n",
       "\n",
       "[1 rows x 2005 columns]"
      ]
     },
     "execution_count": 23,
     "metadata": {},
     "output_type": "execute_result"
    }
   ],
   "source": [
    "# Create new preprocessed dataset\n",
    "preprocessed_dataset = dataset.copy()\n",
    "\n",
    "# Fill missing values\n",
    "preprocessed_dataset[\"Description\"] = preprocessed_dataset[\"Description\"].fillna(preprocessed_dataset[\"Category\"])\n",
    "preprocessed_dataset[\"Description\"] = preprocessed_dataset[\"Description\"].fillna(preprocessed_dataset[\"Title\"])\n",
    "preprocessed_dataset[\"Category\"] = preprocessed_dataset[\"Category\"].fillna(\"\")\n",
    "\n",
    "# Split categories into a list\n",
    "preprocessed_dataset['Category_list'] = preprocessed_dataset['Category'].str.split(' , ')\n",
    "preprocessed_dataset['Category_list'] = preprocessed_dataset['Category_list'].apply(lambda arr: [s.strip() for s in arr])\n",
    "\n",
    "# Split list category into different columns\n",
    "exploded = preprocessed_dataset.explode('Category_list')\n",
    "dummies = pd.get_dummies(exploded['Category_list'])\n",
    "preprocessed_dataset = preprocessed_dataset.join(dummies.groupby(exploded.index).sum())\n",
    "\n",
    "# Drop unnecessary columns\n",
    "preprocessed_dataset.drop(columns=['Authors', 'Category', 'Category_list', 'Publisher',\n",
    "                                    'Price Starting With ($)', 'Publish Date (Month)', 'Publish Date (Year)'], inplace=True)\n",
    "\n",
    "# Show new dataset\n",
    "preprocessed_dataset.head(1)"
   ]
  },
  {
   "cell_type": "markdown",
   "metadata": {},
   "source": [
    "### Setup embeddings producer\n",
    "\n",
    "- Import libraries\n",
    "- Setup torch and BERT\n",
    "- Create embeddings producer function"
   ]
  },
  {
   "cell_type": "code",
   "execution_count": 30,
   "metadata": {},
   "outputs": [],
   "source": [
    "# importing libraries\n",
    "import random\n",
    "import torch\n",
    "from transformers import BertTokenizer, BertModel\n",
    "\n",
    "# Setup torch\n",
    "random_seed = 42\n",
    "random.seed(random_seed)\n",
    "torch.manual_seed(random_seed)\n",
    "if torch.cuda.is_available():\n",
    "    torch.cuda.manual_seed_all(random_seed)\n",
    "device = torch.device('cuda' if torch.cuda.is_available() else 'cpu')\n",
    "\n",
    "# Load BERT tokenizer and model\n",
    "tokenizer = BertTokenizer.from_pretrained('bert-base-uncased')\n",
    "model = BertModel.from_pretrained('bert-base-uncased').to(device)\n",
    "\n",
    "\n",
    "# Define function to get text embedding\n",
    "def produce_text_embedding(text):\n",
    "    encoding = tokenizer.batch_encode_plus(\n",
    "        [text],\n",
    "        padding=True,              \n",
    "        truncation=True,           \n",
    "        return_tensors='pt',      \n",
    "        add_special_tokens=True    \n",
    "    )\n",
    "\n",
    "    input_ids = encoding['input_ids'].to(device)\n",
    "    attention_mask = encoding['attention_mask'].to(device)\n",
    "\n",
    "    with torch.no_grad():\n",
    "        outputs = model(input_ids, attention_mask=attention_mask)\n",
    "        word_embeddings = outputs.last_hidden_state  \n",
    "\n",
    "    sentence_embedding = word_embeddings.mean(dim=1)\n",
    "\n",
    "    return sentence_embedding.cpu() \n"
   ]
  },
  {
   "cell_type": "markdown",
   "metadata": {},
   "source": [
    "### Function to produce all embeddings\n",
    "- Never tested\n",
    "- Probably needs optimization\n",
    "- Has to save intermediate results\n",
    "- Has to have ability to start from arbitrary point\n",
    "- Saving in numpy format has to be provided"
   ]
  },
  {
   "cell_type": "code",
   "execution_count": null,
   "metadata": {},
   "outputs": [],
   "source": [
    "def create_new_dataframe(df):\n",
    "    new_df = pd.DataFrame()\n",
    "    numerical_cols = df.select_dtypes(include=np.number).columns\n",
    "\n",
    "    length = df.shape[0]\n",
    "    for index, row in df.iterrows():\n",
    "        vector = produce_text_embedding(row['Description']).reshape(768)\n",
    "\n",
    "        numerical_values = row[numerical_cols].values\n",
    "        name = row['Title']\n",
    "\n",
    "        combined_vector = np.concatenate((vector, numerical_values))\n",
    "\n",
    "        vector_str = ','.join(map(str, combined_vector))\n",
    "\n",
    "        new_row = pd.DataFrame({'book_embedding': [vector_str], 'name': [name]})\n",
    "        new_df = pd.concat([new_df, new_row], ignore_index=True)\n",
    "\n",
    "        print(f'Progress: {index / length:.2%}', end='\\r')\n",
    "\n",
    "    return new_df"
   ]
  },
  {
   "cell_type": "markdown",
   "metadata": {},
   "source": [
    "### Importing numpy vectors\n",
    "- Imports numpy matrix. Also such matrix has to be saved by previous method\n",
    "- Consists of all books in dataframe\n",
    "- For each vector first element is the book name, others are embedding"
   ]
  },
  {
   "cell_type": "code",
   "execution_count": null,
   "metadata": {},
   "outputs": [],
   "source": [
    "dataset = np.load(\"./Datasets/books_embeddings.npy\", allow_pickle= True)"
   ]
  },
  {
   "cell_type": "markdown",
   "metadata": {},
   "source": [
    "### Get most similar vectors in the dataset\n",
    "\n",
    "- So far only finds itself. kinda enough"
   ]
  },
  {
   "cell_type": "code",
   "execution_count": 59,
   "metadata": {},
   "outputs": [
    {
     "name": "stdout",
     "output_type": "stream",
     "text": [
      "record vector [[0.012158381752669811 0.12222578376531601 -0.3661309778690338 ... 0 0 0]]\n"
     ]
    },
    {
     "data": {
      "text/plain": [
       "['Goat Brothers']"
      ]
     },
     "execution_count": 59,
     "metadata": {},
     "output_type": "execute_result"
    }
   ],
   "source": [
    "def cosine_similarity(a, b):\n",
    "    l2a = 0\n",
    "    l2b = 0\n",
    "    scalarMultiplication = 0\n",
    "    for i in range(1, a.shape[0]):\n",
    "        scalarMultiplication += a[i] * b[i]\n",
    "        l2a += a[i] ** 2\n",
    "        l2b += b[i] ** 2\n",
    "\n",
    "    l2a = np.sqrt(l2a) + 0.0001\n",
    "    l2b = np.sqrt(l2b) + 0.0001\n",
    "\n",
    "    return 1 - scalarMultiplication / (l2a * l2b)\n",
    "\n",
    "def find_closest_records(record, df, n=5):\n",
    "    record_vector = (record[1:]).reshape(1,-1)\n",
    "    print(\"record vector\", record_vector)\n",
    "    data_matrix = df[:, 1:].astype(np.float64)\n",
    "    all_names = df[:,0]\n",
    "    similiraties = cosine_similarity(record_vector, data_matrix).flatten()\n",
    "    distances = 1 - similiraties\n",
    "    sorted_indeces = np.argsort(distances)[:n]\n",
    "    names = all_names[sorted_indeces]\n",
    "    return list(names)\n",
    "\n",
    "find_closest_records(dataset[0], dataset, n=10)"
   ]
  },
  {
   "cell_type": "code",
   "execution_count": null,
   "metadata": {},
   "outputs": [],
   "source": [
    "new_df['book_embedding'].shape"
   ]
  },
  {
   "cell_type": "code",
   "execution_count": null,
   "metadata": {},
   "outputs": [],
   "source": [
    "find_closest_records(load_df.iloc[0], load_df, n=10)"
   ]
  }
 ],
 "metadata": {
  "kernelspec": {
   "display_name": "book-recsys",
   "language": "python",
   "name": "python3"
  },
  "language_info": {
   "codemirror_mode": {
    "name": "ipython",
    "version": 3
   },
   "file_extension": ".py",
   "mimetype": "text/x-python",
   "name": "python",
   "nbconvert_exporter": "python",
   "pygments_lexer": "ipython3",
   "version": "3.12.7"
  }
 },
 "nbformat": 4,
 "nbformat_minor": 2
}
