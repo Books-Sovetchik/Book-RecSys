{
 "cells": [
  {
   "cell_type": "code",
   "execution_count": null,
   "metadata": {},
   "outputs": [],
   "source": [
    "import pandas as pd\n",
    "import numpy as np"
   ]
  },
  {
   "cell_type": "code",
   "execution_count": null,
   "metadata": {},
   "outputs": [],
   "source": [
    "dataset = pd.read_csv(\"BooksDatasetClean.csv\")"
   ]
  },
  {
   "cell_type": "markdown",
   "metadata": {},
   "source": [
    "### Simply preprocess for dataset\n",
    "\n",
    "- Fill in some missing values\n",
    "- Split all categories into separate columns of categories\n",
    "- Delete redundant columns"
   ]
  },
  {
   "cell_type": "code",
   "execution_count": null,
   "metadata": {},
   "outputs": [],
   "source": [
    "# Create new preprocessed dataset\n",
    "preprocessed_dataset = dataset.copy()\n",
    "\n",
    "# Fill missing values\n",
    "preprocessed_dataset[\"Description\"] = preprocessed_dataset[\"Description\"].fillna(preprocessed_dataset[\"Category\"])\n",
    "preprocessed_dataset[\"Description\"] = preprocessed_dataset[\"Description\"].fillna(preprocessed_dataset[\"Title\"])\n",
    "preprocessed_dataset[\"Category\"] = preprocessed_dataset[\"Category\"].fillna(\"\")\n",
    "\n",
    "# Split categories into a list\n",
    "preprocessed_dataset['Category_list'] = preprocessed_dataset['Category'].str.split(' , ')\n",
    "preprocessed_dataset['Category_list'] = preprocessed_dataset['Category_list'].apply(lambda arr: [s.strip() for s in arr])\n",
    "\n",
    "# Split list category into different columns\n",
    "exploded = preprocessed_dataset.explode('Category_list')\n",
    "dummies = pd.get_dummies(exploded['Category_list'])\n",
    "preprocessed_dataset = preprocessed_dataset.join(dummies.groupby(exploded.index).sum())\n",
    "\n",
    "# Drop unnecessary columns\n",
    "preprocessed_dataset.drop(columns=['Authors', 'Category', 'Category_list', 'Publisher',\n",
    "                                    'Price Starting With ($)', 'Publish Date (Month)', 'Publish Date (Year)'], inplace=True)\n",
    "\n",
    "# Show new dataset\n",
    "preprocessed_dataset.head(1)"
   ]
  },
  {
   "cell_type": "markdown",
   "metadata": {},
   "source": [
    "### Setup embeddings producer\n",
    "\n",
    "- Import libraries\n",
    "- Setup torch and BERT\n",
    "- Create embeddings producer function"
   ]
  },
  {
   "cell_type": "code",
   "execution_count": null,
   "metadata": {},
   "outputs": [],
   "source": [
    "# importing libraries\n",
    "import random\n",
    "import torch\n",
    "from transformers import BertTokenizer, BertModel\n",
    "\n",
    "# Setup torch\n",
    "random_seed = 42\n",
    "random.seed(random_seed)\n",
    "torch.manual_seed(random_seed)\n",
    "if torch.cuda.is_available():\n",
    "    torch.cuda.manual_seed_all(random_seed)\n",
    "device = torch.device('cuda' if torch.cuda.is_available() else 'cpu')\n",
    "\n",
    "# Load BERT tokenizer and model\n",
    "tokenizer = BertTokenizer.from_pretrained('bert-base-uncased')\n",
    "model = BertModel.from_pretrained('bert-base-uncased').to(device)\n",
    "\n",
    "\n",
    "# Define function to get text embedding\n",
    "def produce_text_embedding(text):\n",
    "    encoding = tokenizer.batch_encode_plus(\n",
    "        [text],\n",
    "        padding=True,              \n",
    "        truncation=True,           \n",
    "        return_tensors='pt',      \n",
    "        add_special_tokens=True    \n",
    "    )\n",
    "\n",
    "    input_ids = encoding['input_ids'].to(device)\n",
    "    attention_mask = encoding['attention_mask'].to(device)\n",
    "\n",
    "    with torch.no_grad():\n",
    "        outputs = model(input_ids, attention_mask=attention_mask)\n",
    "        word_embeddings = outputs.last_hidden_state  \n",
    "\n",
    "    sentence_embedding = word_embeddings.mean(dim=1)\n",
    "\n",
    "    return sentence_embedding.cpu() \n"
   ]
  },
  {
   "cell_type": "markdown",
   "metadata": {},
   "source": [
    "### Function to produce all embeddings\n",
    "- Never tested\n",
    "- Probably needs optimization\n",
    "- Has to save intermediate results\n",
    "- Has to have ability to start from arbitrary point\n",
    "- Saving in numpy format has to be provided"
   ]
  },
  {
   "cell_type": "code",
   "execution_count": null,
   "metadata": {},
   "outputs": [],
   "source": [
    "def create_new_dataframe(df):\n",
    "    numerical_cols = df.select_dtypes(include=np.number).columns\n",
    "    combined_data = []\n",
    "    length = df.shape[0]\n",
    "    for index, row in df.iterrows():\n",
    "        vector = produce_text_embedding(row['Description']).reshape(768)\n",
    "\n",
    "        numerical_values = row[numerical_cols].values\n",
    "        name = row['Title']\n",
    "\n",
    "        combined_vector = np.concatenate((vector, numerical_values))\n",
    "\n",
    "        combined_row = np.append(name, combined_vector)\n",
    "\n",
    "        combined_data.append(combined_row)\n",
    "        print(f'Progress: {index / length:.2%}', end='\\r')\n",
    "\n",
    "    combined_array = np.array(combined_data, dtype=object) \n",
    "\n",
    "    return combined_array"
   ]
  },
  {
   "cell_type": "markdown",
   "metadata": {},
   "source": [
    "### Importing numpy vectors\n",
    "- Imports numpy matrix. Also such matrix has to be saved by previous method\n",
    "- Consists of all books in dataframe\n",
    "- For each vector first element is the book name, others are embedding"
   ]
  },
  {
   "cell_type": "code",
   "execution_count": null,
   "metadata": {},
   "outputs": [],
   "source": [
    "dataset = np.load(\"books_embeddings.npy\", allow_pickle= True)"
   ]
  },
  {
   "cell_type": "markdown",
   "metadata": {},
   "source": [
    "### Get most similar vectors in the dataset\n"
   ]
  },
  {
   "cell_type": "code",
   "execution_count": null,
   "metadata": {},
   "outputs": [],
   "source": [
    "def find_closest_records(record, df, n=5):\n",
    "    record_vector = (record[1:]).astype(np.float64).reshape(1,-1)\n",
    "    record_vector = torch.from_numpy(record_vector)\n",
    "    data_matrix =(df[:, 1:].astype(np.float64))\n",
    "    data_matrix = torch.from_numpy(data_matrix)\n",
    "    all_names = df[:,0]\n",
    "    distances = 1 - (torch.cosine_similarity(record_vector, data_matrix))\n",
    "    sorted_indeces = np.argsort(distances)[:n]\n",
    "    names = all_names[sorted_indeces]\n",
    "    return list(names)"
   ]
  },
  {
   "cell_type": "code",
   "execution_count": null,
   "metadata": {},
   "outputs": [],
   "source": [
    "print(dataset[1000])\n",
    "find_closest_records(dataset[1000], dataset, n=20)"
   ]
  }
 ],
 "metadata": {
  "kernelspec": {
   "display_name": "Python 3",
   "language": "python",
   "name": "python3"
  },
  "language_info": {
   "codemirror_mode": {
    "name": "ipython",
    "version": 3
   },
   "file_extension": ".py",
   "mimetype": "text/x-python",
   "name": "python",
   "nbconvert_exporter": "python",
   "pygments_lexer": "ipython3",
   "version": "3.12.6"
  }
 },
 "nbformat": 4,
 "nbformat_minor": 2
}
