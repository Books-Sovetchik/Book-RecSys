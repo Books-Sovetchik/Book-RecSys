{
 "cells": [
  {
   "cell_type": "code",
   "execution_count": 1,
   "metadata": {},
   "outputs": [],
   "source": [
    "import pandas as pd\n",
    "import numpy as np\n",
    "df = pd.read_csv(\"books_embeddings.csv\")"
   ]
  },
  {
   "cell_type": "code",
   "execution_count": 2,
   "metadata": {},
   "outputs": [],
   "source": [
    "def parse_embedding(embedding_str):\n",
    "    \"\"\"Convert the string of comma-separated floats into a NumPy array.\"\"\"\n",
    "    return np.array([float(x) for x in embedding_str.split(',')])"
   ]
  },
  {
   "cell_type": "code",
   "execution_count": 21,
   "metadata": {},
   "outputs": [],
   "source": [
    "from sklearn.cluster import KMeans\n",
    "\n",
    "def create_embeddings_list(df, embeddings):\n",
    "    length = df.shape[0]\n",
    "    for index, row in df.iterrows():\n",
    "        vector = parse_embedding(row['book_embedding']).flatten()  \n",
    "        embeddings.append(vector)  \n",
    "        \n",
    "        print(f'Progress: {index / length:.2%}', end='\\r')\n",
    "    return embeddings  \n",
    "\n",
    "\n",
    "def create_cluster(embeddings):\n",
    "    embeddings_matrix = np.array(embeddings)  \n",
    "    print(\"Embeddings matrix shape:\", embeddings_matrix.shape)\n",
    "\n",
    "    n_clusters = 50\n",
    "    kmeans = KMeans(n_clusters= n_clusters, random_state=42)\n",
    "    kmeans.fit(embeddings_matrix)\n",
    "\n",
    "    cluster_labels = kmeans.labels_\n",
    "    return cluster_labels, kmeans \n"
   ]
  },
  {
   "cell_type": "code",
   "execution_count": 20,
   "metadata": {},
   "outputs": [
    {
     "name": "stdout",
     "output_type": "stream",
     "text": [
      "Embeddings matrix shape: (103063, 2771)\n"
     ]
    }
   ],
   "source": [
    "embeddings = []\n",
    "embeddings = create_embeddings_list(df, embeddings)\n",
    "cluster_labels, kmeans = create_cluster(embeddings) #not neccessary, can read from csv and load joblib model"
   ]
  },
  {
   "cell_type": "code",
   "execution_count": null,
   "metadata": {},
   "outputs": [],
   "source": [
    "import joblib\n",
    "clusters2 = pd.read_csv(\"cluster_labels.csv\")\n",
    "kmeans2 = joblib.load(\"kmeans_model.joblib\") # read from csv "
   ]
  },
  {
   "cell_type": "code",
   "execution_count": 10,
   "metadata": {},
   "outputs": [
    {
     "name": "stdout",
     "output_type": "stream",
     "text": [
      "Number of books in each cluster: {np.int32(0): np.int64(748), np.int32(1): np.int64(1822), np.int32(2): np.int64(1792), np.int32(3): np.int64(1877), np.int32(4): np.int64(451), np.int32(5): np.int64(528), np.int32(6): np.int64(579), np.int32(7): np.int64(160), np.int32(8): np.int64(1769), np.int32(9): np.int64(685), np.int32(10): np.int64(2674), np.int32(11): np.int64(364), np.int32(12): np.int64(797), np.int32(13): np.int64(718), np.int32(14): np.int64(452), np.int32(15): np.int64(688), np.int32(16): np.int64(210), np.int32(17): np.int64(1533), np.int32(18): np.int64(1294), np.int32(19): np.int64(203), np.int32(20): np.int64(767), np.int32(21): np.int64(806), np.int32(22): np.int64(1699), np.int32(23): np.int64(3843), np.int32(24): np.int64(169), np.int32(25): np.int64(3311), np.int32(26): np.int64(921), np.int32(27): np.int64(516), np.int32(28): np.int64(764), np.int32(29): np.int64(1157), np.int32(30): np.int64(1060), np.int32(31): np.int64(2340), np.int32(32): np.int64(1304), np.int32(33): np.int64(1205), np.int32(34): np.int64(1741), np.int32(35): np.int64(983), np.int32(36): np.int64(194), np.int32(37): np.int64(321), np.int32(38): np.int64(270), np.int32(39): np.int64(162), np.int32(40): np.int64(135), np.int32(41): np.int64(638), np.int32(42): np.int64(624), np.int32(43): np.int64(1397), np.int32(44): np.int64(609), np.int32(45): np.int64(1011), np.int32(46): np.int64(1217), np.int32(47): np.int64(457), np.int32(48): np.int64(843), np.int32(49): np.int64(251), np.int32(50): np.int64(916), np.int32(51): np.int64(1036), np.int32(52): np.int64(505), np.int32(53): np.int64(757), np.int32(54): np.int64(1772), np.int32(55): np.int64(384), np.int32(56): np.int64(718), np.int32(57): np.int64(2574), np.int32(58): np.int64(1803), np.int32(59): np.int64(564), np.int32(60): np.int64(770), np.int32(61): np.int64(893), np.int32(62): np.int64(172), np.int32(63): np.int64(387), np.int32(64): np.int64(1109), np.int32(65): np.int64(615), np.int32(66): np.int64(830), np.int32(67): np.int64(1613), np.int32(68): np.int64(2884), np.int32(69): np.int64(210), np.int32(70): np.int64(611), np.int32(71): np.int64(1076), np.int32(72): np.int64(234), np.int32(73): np.int64(1887), np.int32(74): np.int64(1220), np.int32(75): np.int64(3317), np.int32(76): np.int64(1800), np.int32(77): np.int64(507), np.int32(78): np.int64(568), np.int32(79): np.int64(1431), np.int32(80): np.int64(1246), np.int32(81): np.int64(370), np.int32(82): np.int64(418), np.int32(83): np.int64(1008), np.int32(84): np.int64(1226), np.int32(85): np.int64(1241), np.int32(86): np.int64(832), np.int32(87): np.int64(736), np.int32(88): np.int64(369), np.int32(89): np.int64(870), np.int32(90): np.int64(3064), np.int32(91): np.int64(764), np.int32(92): np.int64(2533), np.int32(93): np.int64(581), np.int32(94): np.int64(477), np.int32(95): np.int64(388), np.int32(96): np.int64(1233), np.int32(97): np.int64(115), np.int32(98): np.int64(653), np.int32(99): np.int64(1717)}\n"
     ]
    }
   ],
   "source": [
    "unique, counts = np.unique(cluster_labels, return_counts=True)\n",
    "cluster_distribution = dict(zip(unique, counts))\n",
    "print(\"Number of books in each cluster:\", cluster_distribution)"
   ]
  },
  {
   "cell_type": "code",
   "execution_count": 13,
   "metadata": {},
   "outputs": [],
   "source": [
    "from sklearn.metrics.pairwise import cosine_similarity\n",
    "\n",
    "def find_closest_records_clusters(record, new_df, cluster_labels, kmeans, n=5):\n",
    "    \n",
    "    record_vector = parse_embedding(record['book_embedding']).reshape(1, -1)\n",
    "\n",
    "    record_cluster = kmeans.predict(record_vector)[0]\n",
    "    \n",
    "    same_cluster_df = new_df[np.array(cluster_labels) == record_cluster]\n",
    "    \n",
    "    distances = []\n",
    "    names = []\n",
    "\n",
    "    length = same_cluster_df.shape[0]\n",
    "    for index, row in same_cluster_df.iterrows():\n",
    "        other_vector = parse_embedding(row['book_embedding']).reshape(1, -1)\n",
    "        \n",
    "        similarity = cosine_similarity(record_vector, other_vector)[0][0]\n",
    "        distance = 1 - similarity\n",
    "        \n",
    "        distances.append(distance)\n",
    "        names.append(row['name'])\n",
    "\n",
    "    sorted_indices = sorted(range(len(distances)), key=lambda k: distances[k])\n",
    "    closest_names = [names[i] for i in sorted_indices[:n]]\n",
    "\n",
    "    return closest_names\n"
   ]
  },
  {
   "cell_type": "code",
   "execution_count": 22,
   "metadata": {},
   "outputs": [
    {
     "data": {
      "text/plain": [
       "['Writing Was Everything',\n",
       " 'Readings',\n",
       " 'Living by Fiction',\n",
       " \"The Style's the Man: Reflections on Proust, Fitzgerald, Wharton, Vidal, and Others\",\n",
       " 'Jafsie and John Henry: Essays',\n",
       " 'Walt Whitman: The Song of Himself',\n",
       " 'Penchants and Places: Essays and Criticism',\n",
       " \"Why Kerouac Matters: The Lessons of On the Road (They're Not What You Think)\",\n",
       " 'An American Procession',\n",
       " 'The Best American Spiritual Writing 2006 (The Best American Series)']"
      ]
     },
     "execution_count": 22,
     "metadata": {},
     "output_type": "execute_result"
    }
   ],
   "source": [
    "find_closest_records_clusters(df.iloc[9809], df, cluster_labels, kmeans, 10)"
   ]
  },
  {
   "cell_type": "code",
   "execution_count": 27,
   "metadata": {},
   "outputs": [],
   "source": [
    "cluster_labels_df = pd.DataFrame(cluster_labels, columns=['Cluster'])\n",
    "cluster_labels_df.to_csv('cluster_labels.csv', index=False)"
   ]
  },
  {
   "cell_type": "code",
   "execution_count": 26,
   "metadata": {},
   "outputs": [
    {
     "data": {
      "text/plain": [
       "['kmeans_model.joblib']"
      ]
     },
     "execution_count": 28,
     "metadata": {},
     "output_type": "execute_result"
    }
   ],
   "source": [
    "import joblib\n",
    "\n",
    "joblib.dump(kmeans, 'kmeans_model.joblib')"
   ]
  }
 ],
 "metadata": {
  "kernelspec": {
   "display_name": "Python 3",
   "language": "python",
   "name": "python3"
  },
  "language_info": {
   "codemirror_mode": {
    "name": "ipython",
    "version": 3
   },
   "file_extension": ".py",
   "mimetype": "text/x-python",
   "name": "python",
   "nbconvert_exporter": "python",
   "pygments_lexer": "ipython3",
   "version": "3.12.6"
  }
 },
 "nbformat": 4,
 "nbformat_minor": 2
}
