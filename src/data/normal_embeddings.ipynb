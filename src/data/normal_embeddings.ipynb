{
 "cells": [
  {
   "cell_type": "code",
   "execution_count": 5,
   "id": "682bb5e0",
   "metadata": {},
   "outputs": [],
   "source": [
    "import os\n",
    "import sys\n",
    "\n",
    "PROJECT_ROOT = os.path.abspath(os.path.join(os.getcwd(), \"..\", \"..\"))\n",
    "if PROJECT_ROOT not in sys.path:\n",
    "    sys.path.insert(0, PROJECT_ROOT)\n",
    "\n",
    "second_semester_fucken_dataset = os.path.abspath(os.path.join(PROJECT_ROOT, \"data\", \"raw_data\", \"kaggle_second_sem\", \"books_data.csv\"))\n",
    "\n",
    "import pandas as pd\n",
    "data = pd.read_csv(second_semester_fucken_dataset)"
   ]
  },
  {
   "cell_type": "code",
   "execution_count": null,
   "id": "e227c22d",
   "metadata": {},
   "outputs": [],
   "source": [
    "import torch\n",
    "from transformers import BertTokenizer, BertModel\n",
    "import numpy as np\n",
    "\n",
    "class EmbeddingsProducer:\n",
    "    def __init__(self):\n",
    "        self.device = torch.device('cuda' if torch.cuda.is_available() else 'cpu')\n",
    "        self.tokenizer = BertTokenizer.from_pretrained('bert-base-uncased')\n",
    "        self.model = BertModel.from_pretrained('bert-base-uncased').to(self.device)\n",
    "\n",
    "    def create_embeddings_batch(self, texts: list[str]) -> list[np.ndarray]:\n",
    "        encoded = self.tokenizer(\n",
    "            texts,\n",
    "            padding=True,\n",
    "            truncation=True,\n",
    "            max_length=512,\n",
    "            return_tensors='pt'\n",
    "        )\n",
    "        input_ids = encoded['input_ids'].to(self.device)\n",
    "        attention_mask = encoded['attention_mask'].to(self.device)\n",
    "    \n",
    "        with torch.no_grad():\n",
    "            outputs = self.model(input_ids=input_ids, attention_mask=attention_mask)\n",
    "            token_embeddings = outputs.last_hidden_state\n",
    "    \n",
    "            mask = attention_mask.unsqueeze(-1).expand(token_embeddings.size()).float()\n",
    "            masked_embeddings = token_embeddings * mask\n",
    "            summed = masked_embeddings.sum(dim=1)\n",
    "            counts = mask.sum(dim=1)\n",
    "            mean_pooled = summed / counts\n",
    "    \n",
    "        return [emb.cpu().numpy() for emb in mean_pooled]\n",
    "    \n",
    "    "
   ]
  },
  {
   "cell_type": "code",
   "execution_count": 24,
   "id": "5b1067c7",
   "metadata": {},
   "outputs": [
    {
     "name": "stderr",
     "output_type": "stream",
     "text": [
      "Embedding...: 100%|██████████| 2/2 [00:07<00:00,  3.90s/it]"
     ]
    },
    {
     "name": "stdout",
     "output_type": "stream",
     "text": [
      "Embeddings saved to embeddings_structured.npz\n",
      "FINISHED\n"
     ]
    },
    {
     "name": "stderr",
     "output_type": "stream",
     "text": [
      "\n"
     ]
    }
   ],
   "source": [
    "embeddings_path = os.path.join(PROJECT_ROOT, \"data\", \"embeddings\", \"embeddings_structured.npz\")\n",
    "\n",
    "def produce_embeddings_batched(data, batch_size=16):\n",
    "    from tqdm import tqdm\n",
    "    embeddings_producer = EmbeddingsProducer()\n",
    "\n",
    "    data.loc[:, \"description\"] = data[\"description\"].fillna(\"No description\")\n",
    "    descriptions = data[\"description\"].tolist()\n",
    "    titles = data[\"Title\"].to_numpy()\n",
    "\n",
    "    embeddings = []\n",
    "\n",
    "    for i in tqdm(range(0, len(descriptions), batch_size), desc=\"Embedding...\"):\n",
    "        batch_texts = descriptions[i:i + batch_size]\n",
    "        batch_embeddings = embeddings_producer.create_embeddings_batch(batch_texts)\n",
    "        embeddings.extend(batch_embeddings)\n",
    "\n",
    "    embeddings = np.stack(embeddings).astype(np.float32)\n",
    "    np.savez(embeddings_path, titles=titles, embeddings=embeddings)\n",
    "    print(\"Embeddings saved to embeddings_structured.npz\")\n",
    "    return embeddings\n",
    "\n",
    "produce_embeddings_batched(data[:30])\n",
    "print(\"FINISHED\")"
   ]
  },
  {
   "cell_type": "code",
   "execution_count": 28,
   "id": "e2be3887",
   "metadata": {},
   "outputs": [],
   "source": [
    "data = np.load(embeddings_path, allow_pickle=True)"
   ]
  },
  {
   "cell_type": "code",
   "execution_count": 30,
   "id": "c7862a8b",
   "metadata": {},
   "outputs": [],
   "source": [
    "titles = data[\"titles\"]\n",
    "embeddings = data[\"embeddings\"]"
   ]
  },
  {
   "cell_type": "code",
   "execution_count": null,
   "id": "d0a3bd22",
   "metadata": {},
   "outputs": [
    {
     "data": {
      "text/plain": [
       "(30, 768)"
      ]
     },
     "execution_count": 33,
     "metadata": {},
     "output_type": "execute_result"
    },
    {
     "ename": "",
     "evalue": "",
     "output_type": "error",
     "traceback": [
      "\u001b[1;31mThe Kernel crashed while executing code in the current cell or a previous cell. \n",
      "\u001b[1;31mPlease review the code in the cell(s) to identify a possible cause of the failure. \n",
      "\u001b[1;31mClick <a href='https://aka.ms/vscodeJupyterKernelCrash'>here</a> for more info. \n",
      "\u001b[1;31mView Jupyter <a href='command:jupyter.viewOutput'>log</a> for further details."
     ]
    }
   ],
   "source": []
  }
 ],
 "metadata": {
  "kernelspec": {
   "display_name": "books",
   "language": "python",
   "name": "python3"
  },
  "language_info": {
   "codemirror_mode": {
    "name": "ipython",
    "version": 3
   },
   "file_extension": ".py",
   "mimetype": "text/x-python",
   "name": "python",
   "nbconvert_exporter": "python",
   "pygments_lexer": "ipython3",
   "version": "3.10.16"
  }
 },
 "nbformat": 4,
 "nbformat_minor": 5
}
