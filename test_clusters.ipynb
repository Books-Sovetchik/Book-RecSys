{
 "cells": [
  {
   "cell_type": "code",
   "execution_count": 1,
   "metadata": {},
   "outputs": [],
   "source": [
    "import pandas as pd\n",
    "import numpy as np\n",
    "df = pd.read_csv(\"books_embeddings.csv\")"
   ]
  },
  {
   "cell_type": "code",
   "execution_count": 2,
   "metadata": {},
   "outputs": [],
   "source": [
    "def parse_embedding(embedding_str):\n",
    "    \"\"\"Convert the string of comma-separated floats into a NumPy array.\"\"\"\n",
    "    return np.array([float(x) for x in embedding_str.split(',')])"
   ]
  },
  {
   "cell_type": "code",
   "execution_count": 3,
   "metadata": {},
   "outputs": [],
   "source": [
    "from sklearn.metrics.pairwise import cosine_similarity\n",
    "\n",
    "def find_closest_records_clusters(record, new_df, cluster_labels, kmeans, n=5):\n",
    "    \n",
    "    record_vector = parse_embedding(record['book_embedding']).reshape(1, -1)\n",
    "\n",
    "    record_cluster = kmeans.predict(record_vector)[0]\n",
    "    \n",
    "    same_cluster_df = new_df[np.array(cluster_labels) == record_cluster]\n",
    "    \n",
    "    distances = []\n",
    "    names = []\n",
    "\n",
    "    length = same_cluster_df.shape[0]\n",
    "    for index, row in same_cluster_df.iterrows():\n",
    "        other_vector = parse_embedding(row['book_embedding']).reshape(1, -1)\n",
    "        \n",
    "        similarity = cosine_similarity(record_vector, other_vector)[0][0]\n",
    "        distance = 1 - similarity\n",
    "        \n",
    "        distances.append(distance)\n",
    "        names.append(row['name'])\n",
    "\n",
    "    sorted_indices = sorted(range(len(distances)), key=lambda k: distances[k])\n",
    "    closest_names = [names[i] for i in sorted_indices[:n]]\n",
    "\n",
    "    return closest_names\n",
    "\n",
    "def find_closest_records_clusters2(record, new_df, cluster_labels, kmeans, n=5, n_clusters_to_search=2):\n",
    "    record_vector = parse_embedding(record['book_embedding']).reshape(1, -1)\n",
    "    record_cluster = kmeans.predict(record_vector)[0]\n",
    "\n",
    "    record_centroid = kmeans.cluster_centers_[record_cluster].reshape(1, -1)\n",
    "    centroid_distances = cosine_similarity(record_centroid, kmeans.cluster_centers_)[0]\n",
    "\n",
    "    closest_cluster_indices = np.argsort(-centroid_distances)[:n_clusters_to_search + 1]\n",
    "    \n",
    "    closest_records_df = new_df[np.isin(cluster_labels, closest_cluster_indices)]\n",
    "    \n",
    "    distances = []\n",
    "    names = []\n",
    "    \n",
    "    for index, row in closest_records_df.iterrows():\n",
    "        other_vector = parse_embedding(row['book_embedding']).reshape(1, -1)\n",
    "        similarity = cosine_similarity(record_vector, other_vector)[0][0]\n",
    "        distance = 1 - similarity\n",
    "        \n",
    "        distances.append(distance)\n",
    "        names.append(row['name'])\n",
    "    \n",
    "    sorted_indices = sorted(range(len(distances)), key=lambda k: distances[k])\n",
    "    closest_names = [names[i] for i in sorted_indices[:n]]\n",
    "\n",
    "    return closest_names"
   ]
  },
  {
   "cell_type": "code",
   "execution_count": 4,
   "metadata": {},
   "outputs": [],
   "source": [
    "import joblib\n",
    "clusters_best = pd.read_csv(\"cluster_labels_best.csv\")\n",
    "kmeans_best = joblib.load(\"kmeansbest_model.joblib\") # read from csv "
   ]
  },
  {
   "cell_type": "code",
   "execution_count": 6,
   "metadata": {},
   "outputs": [
    {
     "data": {
      "text/plain": [
       "['Anna Karenina',\n",
       " 'Anna Karenina (Barnes & Noble Classics)',\n",
       " 'Ethan Frome (Penguin Classics)',\n",
       " 'Eugenie Grandet (The Human Comedy)',\n",
       " 'The American (Penguin Classics)',\n",
       " \"The Pemberley Chronicles: A Companion Volume to Jane Austen's Pride and Prejudice: Book 1\",\n",
       " 'The Wine-Dark Sea (Book 16)',\n",
       " 'Wildest Dreams',\n",
       " 'Sense and Sensibility (Barnes & Noble Classics Series) (B&N Classics)',\n",
       " 'Russka']"
      ]
     },
     "execution_count": 6,
     "metadata": {},
     "output_type": "execute_result"
    }
   ],
   "source": [
    "find_closest_records_clusters(df.iloc[9816], df, clusters_best, kmeans_best, 10)"
   ]
  }
 ],
 "metadata": {
  "kernelspec": {
   "display_name": "Python 3",
   "language": "python",
   "name": "python3"
  },
  "language_info": {
   "codemirror_mode": {
    "name": "ipython",
    "version": 3
   },
   "file_extension": ".py",
   "mimetype": "text/x-python",
   "name": "python",
   "nbconvert_exporter": "python",
   "pygments_lexer": "ipython3",
   "version": "3.12.6"
  }
 },
 "nbformat": 4,
 "nbformat_minor": 2
}
