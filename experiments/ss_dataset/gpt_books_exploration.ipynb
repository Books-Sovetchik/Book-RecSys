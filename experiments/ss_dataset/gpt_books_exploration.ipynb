{
 "cells": [
  {
   "cell_type": "code",
   "execution_count": 1,
   "metadata": {},
   "outputs": [],
   "source": [
    "import sys\n",
    "import os\n",
    "import pandas as pd\n",
    "import numpy as np\n",
    "\n",
    "PROJECT_ROOT = os.path.abspath(os.path.join(os.getcwd(), \"..\", \"..\"))\n",
    "if PROJECT_ROOT not in sys.path:\n",
    "    sys.path.insert(0, PROJECT_ROOT)"
   ]
  },
  {
   "cell_type": "code",
   "execution_count": 60,
   "metadata": {},
   "outputs": [],
   "source": [
    "import torch\n",
    "from torch import nn\n",
    "from torch import functional as F\n",
    "\n",
    "batch_size = 32\n",
    "block_size = 4\n",
    "device = 'cuda' if torch.cuda.is_available() else 'cpu'"
   ]
  },
  {
   "cell_type": "code",
   "execution_count": 3,
   "metadata": {},
   "outputs": [],
   "source": [
    "DATA_PATH = os.path.join(PROJECT_ROOT, \"data\")\n",
    "PATH_RATINGS = os.path.join(DATA_PATH, \"raw_data\", \"kaggle_second_sem\", \"books_rating.csv\")\n",
    "PATH_BOOKS = os.path.join(DATA_PATH, \"raw_data\", \"kaggle_second_sem\", \"books_data.csv\")\n",
    "PATH_EMBDS = os.path.join(DATA_PATH, \"embeddings\", \"expanded_embds_ss.npy\")\n",
    "\n",
    "df_books = pd.read_csv(PATH_BOOKS)\n",
    "df_ratings = pd.read_csv(PATH_RATINGS)\n",
    "book_embds = np.load(PATH_EMBDS, allow_pickle=True)\n",
    "\n",
    "# Book embds has shape like\n",
    "#(Title, (count, 1), (review/score, 1) (author, 1), (categories, 1), (publisher, 1), (description_embd, 384))"
   ]
  },
  {
   "cell_type": "code",
   "execution_count": 4,
   "metadata": {},
   "outputs": [],
   "source": [
    "ratings_seqs = df_ratings.groupby(\"User_id\")[\"Title\"].apply(lambda x: list(set(x.tolist()))).loc[lambda x: x.str.len() > 5].reset_index()\n",
    "train = ratings_seqs[\"Title\"].iloc[:30000]\n",
    "test = ratings_seqs[\"Title\"].iloc[30000:]"
   ]
  },
  {
   "cell_type": "code",
   "execution_count": 5,
   "metadata": {},
   "outputs": [
    {
     "data": {
      "text/plain": [
       "tensor([11])"
      ]
     },
     "execution_count": 5,
     "metadata": {},
     "output_type": "execute_result"
    }
   ],
   "source": [
    "torch.randint(2, (3, 3))\n",
    "\n",
    "# torch.randint(len(train[1636]) - block_size, (1,))\n",
    "torch.randint(len(train[20551]) - block_size, (1,))"
   ]
  },
  {
   "cell_type": "code",
   "execution_count": 95,
   "metadata": {},
   "outputs": [],
   "source": [
    "book_embds_dict = {row[0]: np.array(row[1:], dtype=np.float32) for row in book_embds}\n",
    "\n",
    "def encode(book_title):\n",
    "    return book_embds_dict[book_title]\n",
    "def encode_seq(seq):\n",
    "    return [book_embds_dict[title] for title in seq]"
   ]
  },
  {
   "cell_type": "code",
   "execution_count": 94,
   "metadata": {},
   "outputs": [
    {
     "data": {
      "text/plain": [
       "((29962,), (16459,))"
      ]
     },
     "execution_count": 94,
     "metadata": {},
     "output_type": "execute_result"
    }
   ],
   "source": [
    "def clear_nan(sample):\n",
    "    return sample[np.array([all(isinstance(j, str) for j in seq) for seq in sample])]\n",
    "\n",
    "train = clear_nan(train)\n",
    "test = clear_nan(test)\n",
    "\n",
    "train.shape, test.shape"
   ]
  },
  {
   "cell_type": "code",
   "execution_count": 96,
   "metadata": {},
   "outputs": [],
   "source": [
    "def get_batch(split):\n",
    "    data = train.reset_index(drop=True) if split == 'train' else test.reset_index(drop=True)\n",
    "    ix = torch.randint(len(train), (batch_size,))\n",
    "\n",
    "    x = []\n",
    "    y = []\n",
    "    for i in ix:\n",
    "        i = int(i)       \n",
    "        j = torch.randint(len(data[i]) - block_size-1, (1,))\n",
    "        x.append(encode_seq(data[i][j:j + block_size]))\n",
    "        y.append(encode(data[i][j + block_size + 1]))\n",
    "\n",
    "    x = torch.tensor(x)\n",
    "    y = torch.tensor(y)\n",
    "    x, y = x.to(device), y.to(device)\n",
    "    return x, y"
   ]
  },
  {
   "cell_type": "code",
   "execution_count": 88,
   "metadata": {},
   "outputs": [
    {
     "data": {
      "text/plain": [
       "(torch.Size([32, 4, 389]), torch.Size([32, 389]))"
      ]
     },
     "execution_count": 88,
     "metadata": {},
     "output_type": "execute_result"
    }
   ],
   "source": [
    "X, y = get_batch('train')\n",
    "X.shape, y.shape"
   ]
  },
  {
   "cell_type": "code",
   "execution_count": 9,
   "metadata": {},
   "outputs": [],
   "source": [
    "def get_max_index(col_idx):\n",
    "    return int(max(\n",
    "        embd[1 + col_idx]\n",
    "        for embd in book_embds_dict.values()\n",
    "    ))\n",
    "\n",
    "count_size = get_max_index(0) + 100000\n",
    "review_size = get_max_index(1) + 100000\n",
    "author_size = get_max_index(2) + 1000000\n",
    "cat_size = get_max_index(3) + 100000\n",
    "publisher_size = get_max_index(4) + 100000\n"
   ]
  },
  {
   "cell_type": "code",
   "execution_count": 12,
   "metadata": {},
   "outputs": [
    {
     "data": {
      "text/plain": [
       "(100005, 227278, 1010883, 116016, 100001)"
      ]
     },
     "execution_count": 12,
     "metadata": {},
     "output_type": "execute_result"
    }
   ],
   "source": [
    "count_size, review_size, author_size, cat_size, publisher_size"
   ]
  },
  {
   "cell_type": "code",
   "execution_count": 10,
   "metadata": {},
   "outputs": [],
   "source": [
    "count_embd_size = max(train)\n",
    "\n",
    "sm_embd = 20\n",
    "desc_embd = 384\n",
    "n_embd = sm_embd * 5 + desc_embd"
   ]
  },
  {
   "cell_type": "code",
   "execution_count": null,
   "metadata": {},
   "outputs": [
    {
     "data": {
      "text/plain": [
       "121.0"
      ]
     },
     "execution_count": 108,
     "metadata": {},
     "output_type": "execute_result"
    }
   ],
   "source": [
    "484 / 4 "
   ]
  },
  {
   "cell_type": "code",
   "execution_count": 109,
   "metadata": {},
   "outputs": [],
   "source": [
    "class Block(nn.Module):\n",
    "    def __init__(self):\n",
    "        super().__init__()\n",
    "        self.ln1 = nn.LayerNorm(n_embd)\n",
    "        self.ln2 = nn.LayerNorm(n_embd)\n",
    "        self.attn = nn.MultiheadAttention(n_embd, 11, batch_first=True)\n",
    "        self.mlp = nn.Sequential(\n",
    "            nn.Linear(n_embd, 16 * n_embd),\n",
    "            nn.ReLU(),\n",
    "            nn.Linear(16 * n_embd, n_embd)\n",
    "        )\n",
    "\n",
    "    def forward(self, x):\n",
    "        x = x + self.attn(self.ln1(x), self.ln1(x), self.ln1(x))[0]\n",
    "        x = x + self.mlp(self.ln2(x))\n",
    "        return x\n",
    "\n",
    "class Optimus(nn.Module):\n",
    "    def __init__(self):\n",
    "        super().__init__()\n",
    "        self.count_embds = nn.Embedding(count_size, sm_embd, device=device)\n",
    "        self.review_embds = nn.Embedding(review_size, sm_embd, device=device)\n",
    "        self.author_embds = nn.Embedding(author_size, sm_embd, device=device)\n",
    "        self.cat_embds = nn.Embedding(cat_size, sm_embd, device=device)\n",
    "        self.publisher_embds = nn.Embedding(publisher_size, sm_embd, device=device)\n",
    "        self.pos_embds = nn.Embedding(block_size, n_embd, device=device)\n",
    "        self.blocks = nn.Sequential(*[Block() for _ in range(20)])\n",
    "        self.ln_head = nn.Linear(n_embd, 5 + desc_embd, device=device)  \n",
    "        \n",
    "    def forward(self, x):\n",
    "        B, T, C = x.shape\n",
    "\n",
    "        x = torch.cat([\n",
    "            self.count_embds(x[:, :, 0].long()),\n",
    "            self.review_embds(x[:, :, 1].long()),\n",
    "            self.author_embds(x[:, :, 2].long()),\n",
    "            self.cat_embds(x[:, :, 3].long()),\n",
    "            self.publisher_embds(x[:, :, 4].long()),\n",
    "            x[:, :, 5:]\n",
    "        ], dim=-1)\n",
    "\n",
    "        pos_embd = self.pos_embds(torch.arange(T, device=x.device)).unsqueeze(0)\n",
    "        x = x + pos_embd\n",
    "\n",
    "        x = self.blocks(x)\n",
    "\n",
    "        x = x[:, -1, :]\n",
    "        x = self.ln_head(x)\n",
    "\n",
    "        return x\n"
   ]
  },
  {
   "cell_type": "code",
   "execution_count": 110,
   "metadata": {},
   "outputs": [],
   "source": [
    "model = Optimus().to(device)\n",
    "optimizer = torch.optim.AdamW(model.parameters(), lr=3e-4)"
   ]
  },
  {
   "cell_type": "code",
   "execution_count": null,
   "metadata": {},
   "outputs": [],
   "source": [
    "loss_fn = nn.CosineEmbeddingLoss()\n",
    "\n",
    "\n",
    "loss_avg = 0\n",
    "for step in range(10000):\n",
    "    xb, yb = get_batch('train')  \n",
    "    \n",
    "    out = model(xb) \n",
    "    \n",
    "    loss = loss_fn(out, yb, torch.ones(32))\n",
    "\n",
    "    optimizer.zero_grad()\n",
    "    loss.backward()\n",
    "    optimizer.step()\n",
    "\n",
    "\n",
    "    loss_avg += loss.item()\n",
    "    if step % 40 == 0:\n",
    "        print(f\"Step {step}: Loss = {loss_avg / 40:.4f}\")\n",
    "        loss_avg = 0\n"
   ]
  },
  {
   "cell_type": "code",
   "execution_count": null,
   "metadata": {},
   "outputs": [],
   "source": [
    "model(get_batch('train')[0]).shape"
   ]
  },
  {
   "cell_type": "code",
   "execution_count": null,
   "metadata": {},
   "outputs": [],
   "source": [
    "get_batch('train')[0][:, :, 2].long()"
   ]
  }
 ],
 "metadata": {
  "kernelspec": {
   "display_name": "Python (books)",
   "language": "python",
   "name": "books"
  },
  "language_info": {
   "codemirror_mode": {
    "name": "ipython",
    "version": 3
   },
   "file_extension": ".py",
   "mimetype": "text/x-python",
   "name": "python",
   "nbconvert_exporter": "python",
   "pygments_lexer": "ipython3",
   "version": "3.10.16"
  }
 },
 "nbformat": 4,
 "nbformat_minor": 2
}
