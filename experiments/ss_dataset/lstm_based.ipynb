{
 "cells": [
  {
   "cell_type": "code",
   "execution_count": 1,
   "id": "3f844abe",
   "metadata": {},
   "outputs": [],
   "source": [
    "import sys\n",
    "import os\n",
    "import pandas as pd\n",
    "import numpy as np\n",
    "\n",
    "PROJECT_ROOT = os.path.abspath(os.path.join(os.getcwd(), \"..\", \"..\"))\n",
    "if PROJECT_ROOT not in sys.path:\n",
    "    sys.path.insert(0, PROJECT_ROOT)"
   ]
  },
  {
   "cell_type": "code",
   "execution_count": 2,
   "id": "57a04fc5",
   "metadata": {},
   "outputs": [],
   "source": [
    "import torch\n",
    "from torch import nn\n",
    "from torch import functional as F\n",
    "\n",
    "batch_size = 32\n",
    "block_size = 4\n",
    "device = 'cuda' if torch.cuda.is_available() else 'cpu'"
   ]
  },
  {
   "cell_type": "code",
   "execution_count": null,
   "id": "f1422992",
   "metadata": {},
   "outputs": [],
   "source": [
    "DATA_PATH = os.path.join(PROJECT_ROOT, \"data\")\n",
    "PATH_RATINGS = os.path.join(DATA_PATH, \"raw_data\", \"kaggle_second_sem\", \"books_rating.csv\")\n",
    "PATH_BOOKS = os.path.join(DATA_PATH, \"raw_data\", \"kaggle_second_sem\", \"books_data.csv\")\n",
    "PATH_EMBDS = os.path.join(DATA_PATH, \"embeddings\", \"expanded_embds_ss.npy\")\n",
    "\n",
    "df_books = pd.read_csv(PATH_BOOKS)\n",
    "df_ratings = pd.read_csv(PATH_RATINGS)\n",
    "\n",
    "# Book embds has shape like\n",
    "#(Title, (count, 1), (review/score, 1) (author, 1), (categories, 1), (publisher, 1), (description_embd, 384))"
   ]
  },
  {
   "cell_type": "code",
   "execution_count": 55,
   "id": "f9bc2ec2",
   "metadata": {},
   "outputs": [
    {
     "name": "stdout",
     "output_type": "stream",
     "text": [
      "max_title: 22023.0, max_score: 5.0, max_author: 127278, max_categories: 10883, max_publisher: 16016\n"
     ]
    },
    {
     "name": "stderr",
     "output_type": "stream",
     "text": [
      "d:\\programm_files\\conda\\envs\\books\\lib\\site-packages\\numpy\\_core\\_methods.py:44: RuntimeWarning: invalid value encountered in reduce\n",
      "  return umr_maximum(a, axis, None, out, keepdims, initial, where)\n"
     ]
    }
   ],
   "source": [
    "max_title = book_embds[:, 1].max()\n",
    "max_score = book_embds[:, 2].max()\n",
    "max_author = book_embds[:, 3].max()\n",
    "max_categories = book_embds[:, 4].max()\n",
    "max_publisher = book_embds[:, 5].max()\n",
    "\n",
    "print(f\"max_title: {max_title}, max_score: {max_score}, max_author: {max_author}, max_categories: {max_categories}, max_publisher: {max_publisher}\")"
   ]
  },
  {
   "cell_type": "code",
   "execution_count": 127,
   "id": "780b3709",
   "metadata": {},
   "outputs": [],
   "source": [
    "book_embds = np.load(PATH_EMBDS, allow_pickle=True)\n",
    "\n",
    "ratings_seqs = df_ratings.groupby(\"User_id\")[\"Title\"].apply(lambda x: list(set(x.tolist()))).loc[lambda x: x.str.len() > 4].reset_index()\n",
    "ratings_seqs = ratings_seqs[\"Title\"]\n",
    "\n",
    "def clear_nan(sample):\n",
    "    return sample[np.array([all(isinstance(j, str) for j in seq) for seq in sample])]\n",
    "\n",
    "ratings_seqs = clear_nan(ratings_seqs)\n",
    "train = ratings_seqs.iloc[:30000]\n",
    "test = ratings_seqs.iloc[30000:]\n",
    "\n",
    "def normalize(x):\n",
    "    x[0] = x[0] / max_title\n",
    "    x[1] = x[1] / max_score\n",
    "    x[2] = x[2] / max_author\n",
    "    x[3] = x[3] / max_categories\n",
    "    x[4] = x[4] / max_publisher\n",
    "    return x\n",
    "book_embds_dict = {row[0]: np.array(normalize(row[1:]), dtype=np.float32) for row in book_embds}"
   ]
  },
  {
   "cell_type": "code",
   "execution_count": 125,
   "id": "11b504d8",
   "metadata": {},
   "outputs": [],
   "source": [
    "def encode(book_title):\n",
    "    return torch.tensor(book_embds_dict[book_title], dtype=torch.float32)\n",
    "def encode_seq(seq):\n",
    "    return torch.cat([encode(title).unsqueeze(0) for title in seq], dim=0)"
   ]
  },
  {
   "cell_type": "code",
   "execution_count": 131,
   "id": "8c9f5658",
   "metadata": {},
   "outputs": [],
   "source": [
    "from torch.nn.utils.rnn import pack_padded_sequence, pad_sequence\n",
    "\n",
    "def get_batch(split):\n",
    "    data = train.reset_index(drop=True) if split == 'train' else test.reset_index(drop=True)\n",
    "    ix = torch.randint(0, len(data), (batch_size,))\n",
    "\n",
    "    seq = []\n",
    "    y = []\n",
    "\n",
    "    for i in ix:\n",
    "        i = int(i)\n",
    "        s = encode_seq(data[i][:-1])\n",
    "        seq.append(s)\n",
    "        y.append(encode(data[i][-1]))\n",
    "\n",
    "    \n",
    "    lengths = torch.tensor([len(s) for s in seq], dtype=torch.long)\n",
    "    padded_seq = pad_sequence(seq, batch_first=True)\n",
    "    packed_seq = pack_padded_sequence(padded_seq, lengths, batch_first=True, enforce_sorted=False)\n",
    "\n",
    "    x = packed_seq.to(device)\n",
    "    y = torch.stack(y).to(device)\n",
    "\n",
    "    return x, y\n"
   ]
  },
  {
   "cell_type": "code",
   "execution_count": 233,
   "id": "dcc901bd",
   "metadata": {},
   "outputs": [],
   "source": [
    "input_dim = 389\n",
    "output_dim = 389\n",
    "hidden_dim = 128\n",
    "num_layers = 3\n",
    "dropout = 0.2\n",
    "\n",
    "\n",
    "class Rekomendatel(nn.Module):\n",
    "    def __init__(self):\n",
    "        super().__init__()\n",
    "        self.lstm1 = nn.LSTM(input_dim, hidden_dim, num_layers, batch_first=True, dropout=dropout)\n",
    "        self.lstm2 = nn.LSTM(hidden_dim, hidden_dim, num_layers, batch_first=True, dropout=dropout)\n",
    "        self.fc = nn.Linear(hidden_dim, output_dim)\n",
    "        self.dropout = nn.Dropout(dropout)\n",
    "\n",
    "    def forward(self, x):\n",
    "        lstm_out1, (h_n1, c_n1) = self.lstm1(x)\n",
    "        lstm_out2, (h_n2, c_n2) = self.lstm2(lstm_out1)\n",
    "        last_hidden_state = h_n2[-1]\n",
    "        out = self.dropout(last_hidden_state)\n",
    "        out = self.fc(out)\n",
    "        return out\n"
   ]
  },
  {
   "cell_type": "code",
   "execution_count": 235,
   "id": "254f8761",
   "metadata": {},
   "outputs": [
    {
     "name": "stdout",
     "output_type": "stream",
     "text": [
      "Epoch [1/10], Loss: 0.0017\n",
      "Epoch [2/10], Loss: 0.0015\n",
      "Epoch [3/10], Loss: 0.0015\n",
      "Epoch [4/10], Loss: 0.0015\n",
      "Epoch [5/10], Loss: 0.0015\n",
      "Epoch [6/10], Loss: 0.0014\n",
      "Epoch [7/10], Loss: 0.0014\n",
      "Epoch [8/10], Loss: 0.0014\n",
      "Epoch [9/10], Loss: 0.0014\n",
      "Epoch [10/10], Loss: 0.0014\n"
     ]
    }
   ],
   "source": [
    "import torch\n",
    "import torch.optim as optim\n",
    "from torch import nn\n",
    "\n",
    "model = Rekomendatel()\n",
    "criterion = nn.MSELoss()\n",
    "optimizer = optim.AdamW(model.parameters(), lr=1e-4)\n",
    "\n",
    "scheduler = optim.lr_scheduler.ReduceLROnPlateau(optimizer, 'min', patience=3, factor=0.5)\n",
    "\n",
    "num_epochs = 10\n",
    "batch_size = 32\n",
    "\n",
    "for epoch in range(num_epochs):\n",
    "    model.train()\n",
    "    running_loss = 0.0\n",
    "\n",
    "    for _ in range(len(train) // batch_size):\n",
    "        inputs, targets = get_batch('train')\n",
    "\n",
    "        inputs, targets = inputs.cuda() if torch.cuda.is_available() else inputs, targets.cuda() if torch.cuda.is_available() else targets\n",
    "        optimizer.zero_grad()\n",
    "        outputs = model(inputs)\n",
    "        loss = criterion(outputs, targets)\n",
    "        loss.backward()\n",
    "        optimizer.step()\n",
    "        running_loss += loss.item()\n",
    "\n",
    "    print(f'Epoch [{epoch+1}/{num_epochs}], Loss: {running_loss/len(train):.4f}')\n",
    "    \n",
    "    scheduler.step(running_loss / len(train))\n",
    "\n",
    "torch.save(model.state_dict(), 'model.pth')\n"
   ]
  },
  {
   "cell_type": "code",
   "execution_count": 134,
   "id": "2a59a647",
   "metadata": {},
   "outputs": [],
   "source": [
    "import torch\n",
    "torch.save(model.state_dict(), 'model.pth')\n"
   ]
  },
  {
   "cell_type": "code",
   "execution_count": 229,
   "id": "fc43ad0b",
   "metadata": {},
   "outputs": [
    {
     "name": "stdout",
     "output_type": "stream",
     "text": [
      "Test loss: 0.0014\n"
     ]
    }
   ],
   "source": [
    "loaded_model = Rekomendatel()\n",
    "loaded_model.eval()\n",
    "\n",
    "loaded_model.load_state_dict(torch.load('model.pth'))\n",
    "total_loss = 0\n",
    "for _ in range(len(test) // batch_size):\n",
    "    x, y = get_batch('test')\n",
    "    with torch.no_grad():\n",
    "        pred = loaded_model(x)\n",
    "        loss = criterion(pred, y)\n",
    "        total_loss += loss.item()\n",
    "    \n",
    "print(f\"Test loss: {total_loss/len(test):.4f}\")"
   ]
  }
 ],
 "metadata": {
  "kernelspec": {
   "display_name": "books",
   "language": "python",
   "name": "python3"
  },
  "language_info": {
   "codemirror_mode": {
    "name": "ipython",
    "version": 3
   },
   "file_extension": ".py",
   "mimetype": "text/x-python",
   "name": "python",
   "nbconvert_exporter": "python",
   "pygments_lexer": "ipython3",
   "version": "3.10.16"
  }
 },
 "nbformat": 4,
 "nbformat_minor": 5
}
