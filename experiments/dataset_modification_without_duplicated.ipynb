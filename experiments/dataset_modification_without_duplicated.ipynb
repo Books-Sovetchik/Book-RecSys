{
 "cells": [
  {
   "cell_type": "code",
   "execution_count": 5,
   "metadata": {},
   "outputs": [],
   "source": [
    "import pandas as pd\n",
    "import torch\n",
    "import random\n",
    "import numpy as np\n",
    "from transformers import BertTokenizer, BertModel\n",
    "from sklearn.preprocessing import MultiLabelBinarizer\n",
    "import joblib"
   ]
  },
  {
   "cell_type": "code",
   "execution_count": 6,
   "metadata": {},
   "outputs": [
    {
     "data": {
      "text/plain": [
       "['mlb.pkl']"
      ]
     },
     "execution_count": 6,
     "metadata": {},
     "output_type": "execute_result"
    }
   ],
   "source": [
    "df = pd.read_csv(\"output.csv\")\n",
    "df = df.drop(columns=[\"Publish\"])\n",
    "df = df.drop(columns=[\"Publisher\"])\n",
    "category_counts = df[\"Category\"].value_counts()\n",
    "df[\"Category_Count\"] = df[\"Category\"].map(category_counts)\n",
    "df.loc[df[\"Category_Count\"] == 1, \"Category\"] = np.nan\n",
    "df[\"Category\"] = df[\"Category\"].fillna(\"\")\n",
    "df[\"Category_list\"] = df[\"Category\"].str.split(\" , \").apply(lambda x: [s.strip() for s in x])\n",
    "mlb = MultiLabelBinarizer()\n",
    "mlb.fit(df[\"Category_list\"])\n",
    "joblib.dump(mlb, \"mlb.pkl\")"
   ]
  },
  {
   "cell_type": "code",
   "execution_count": 7,
   "metadata": {},
   "outputs": [],
   "source": [
    "\n",
    "class recSysModel:\n",
    "    def __init__(self, path):\n",
    "        self.dataset_df = pd.read_csv(path)\n",
    "        self.mlb = joblib.load(\"mlb.pkl\")\n",
    "        category_counts = self.dataset_df[\"Category\"].value_counts()\n",
    "        self.dataset_df[\"Category_Count\"] = self.dataset_df[\"Category\"].map(category_counts)\n",
    "        self.dataset_df.loc[self.dataset_df[\"Category_Count\"] == 1, \"Category\"] = np.nan\n",
    "        self.dataset_df[\"Category\"] = self.dataset_df[\"Category\"].fillna(\"\")\n",
    "        self.dataset_df['Category_list'] = self.dataset_df['Category'].str.split(' , ').apply(lambda arr: [s.strip() for s in arr])\n",
    "        encoded_categories = self.mlb.transform(self.dataset_df['Category_list'])\n",
    "        encoded_df = pd.DataFrame(encoded_categories, columns=self.mlb.classes_)\n",
    "        self.dataset_df = pd.concat([self.dataset_df, encoded_df], axis=1)\n",
    "        random_seed = 42\n",
    "        random.seed(random_seed)\n",
    "        torch.manual_seed(random_seed)\n",
    "        if torch.cuda.is_available():\n",
    "            torch.cuda.manual_seed_all(random_seed)\n",
    "\n",
    "        self.device = torch.device('cuda' if torch.cuda.is_available() else 'cpu')\n",
    "        self.tokenizer = BertTokenizer.from_pretrained('bert-base-uncased')\n",
    "        self.model = BertModel.from_pretrained('bert-base-uncased').to(self.device)\n",
    "        self.dataset_df = self.dataset_df.drop(columns=['Authors', 'Category', 'Category_list', 'Category_Count'], errors='ignore')\n",
    "        self.titles = self.dataset_df[\"Title\"].to_list()\n",
    "\n",
    "    def __create_embedding(self, text):\n",
    "        encoding = self.tokenizer.batch_encode_plus(\n",
    "            [text],\n",
    "            padding=True,              \n",
    "            truncation=True,           \n",
    "            return_tensors='pt',      \n",
    "            add_special_tokens=True    \n",
    "        )\n",
    "        input_ids = encoding['input_ids'].to(self.device)\n",
    "        attention_mask = encoding['attention_mask'].to(self.device)\n",
    "        with torch.no_grad():\n",
    "            outputs = self.model(input_ids, attention_mask=attention_mask)\n",
    "            word_embeddings = outputs.last_hidden_state  \n",
    "        sentence_embedding = word_embeddings.mean(dim=1)\n",
    "        return sentence_embedding.cpu()\n",
    "\n",
    "    def train(self):\n",
    "        numerical_cols = self.dataset_df.select_dtypes(include=np.number).columns\n",
    "        length = self.dataset_df.shape[0]\n",
    "        combined_data = []\n",
    "        for index, row in self.dataset_df.iterrows():\n",
    "            vector = self.__create_embedding(row['Description']).reshape(768)\n",
    "            numerical_values = row[numerical_cols].values\n",
    "            name = row['Title']\n",
    "            combined_vector = np.concatenate((vector, numerical_values))\n",
    "            combined_row = np.append(name, combined_vector)\n",
    "            combined_data.append(combined_row)\n",
    "            print(f'Progress: {index / length:.2%}', end='\\r')\n",
    "        self.embeddings_df = np.array(combined_data, dtype=object)\n",
    "        return self.embeddings_df"
   ]
  },
  {
   "cell_type": "code",
   "execution_count": 8,
   "metadata": {},
   "outputs": [
    {
     "name": "stdout",
     "output_type": "stream",
     "text": [
      "Progress: 100.00%\r"
     ]
    }
   ],
   "source": [
    "df_no_duplicates = df[~df.duplicated(subset=[\"Title\"], keep=False)]\n",
    "model = recSysModel(\"output_no_duplicates.csv\")\n",
    "embeddings = model.train()\n",
    "np.save(\"no_duplicate_embeddings_encoded.npy\", embeddings)\n"
   ]
  }
 ],
 "metadata": {
  "kernelspec": {
   "display_name": "Python 3",
   "language": "python",
   "name": "python3"
  },
  "language_info": {
   "codemirror_mode": {
    "name": "ipython",
    "version": 3
   },
   "file_extension": ".py",
   "mimetype": "text/x-python",
   "name": "python",
   "nbconvert_exporter": "python",
   "pygments_lexer": "ipython3",
   "version": "3.11.9"
  }
 },
 "nbformat": 4,
 "nbformat_minor": 2
}
