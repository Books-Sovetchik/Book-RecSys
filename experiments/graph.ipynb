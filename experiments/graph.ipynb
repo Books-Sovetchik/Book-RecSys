{
 "cells": [
  {
   "cell_type": "markdown",
   "metadata": {},
   "source": [
    "Simple solution building the graph based on author being referenced in description."
   ]
  },
  {
   "cell_type": "code",
   "execution_count": 36,
   "metadata": {},
   "outputs": [],
   "source": [
    "import sys\n",
    "import os\n",
    "\n",
    "PROJECT_ROOT = os.path.abspath(os.path.join(os.getcwd(), \"..\"))\n",
    "if PROJECT_ROOT not in sys.path:\n",
    "    sys.path.insert(0, PROJECT_ROOT)"
   ]
  },
  {
   "cell_type": "code",
   "execution_count": 37,
   "metadata": {},
   "outputs": [],
   "source": [
    "from src.models.modules import BookDescriptionEmbeddingSimilarity\n",
    "\n",
    "model_path = os.path.join(PROJECT_ROOT, \"data/embeddings/books_embeddings_dataset.npy\")\n",
    "model = BookDescriptionEmbeddingSimilarity(model_path)"
   ]
  },
  {
   "cell_type": "code",
   "execution_count": 38,
   "metadata": {},
   "outputs": [],
   "source": [
    "import json\n",
    "from networkx.readwrite import json_graph\n",
    "\n",
    "def load_graph(relative_path) :\n",
    "    graph_path =  os.path.join(PROJECT_ROOT, relative_path)\n",
    "    with open(graph_path, \"r\") as f:\n",
    "        graph_data = json.load(f)\n",
    "\n",
    "    Graph = json_graph.node_link_graph(graph_data)\n",
    "    return Graph"
   ]
  },
  {
   "cell_type": "code",
   "execution_count": 39,
   "metadata": {},
   "outputs": [],
   "source": [
    "import networkx as nx\n",
    "import pandas as pd\n",
    "\n",
    "dataset_path =  os.path.join(PROJECT_ROOT,\"data/raw_data/LEHABOOKS.csv\")\n",
    "dataset = pd.read_csv(dataset_path)\n",
    "G = nx.Graph()\n",
    "\n",
    "books = dataset.to_dict(orient=\"records\")\n",
    "\n",
    "book_lookup = {f\"{book['Title']} ({book['Authors']})\": book for book in books}\n",
    "\n",
    "for book in books:\n",
    "    book_id = f\"{book['Title']} ({book['Authors']})\"\n",
    "    G.add_node(book_id, data=book)  \n",
    "\n",
    "def find_references_author(description, books, current_book):\n",
    "    references = []\n",
    "\n",
    "    for book in books:\n",
    "        author = book[\"Authors\"]\n",
    "        if pd.isna(author) or author is None:\n",
    "            continue \n",
    "\n",
    "        book_id = f\"{book['Title']} ({book['Authors']})\"\n",
    "\n",
    "        if book_id != current_book:\n",
    "            if author in description:  \n",
    "                references.append(book_id) \n",
    "\n",
    "    return references"
   ]
  },
  {
   "cell_type": "code",
   "execution_count": 40,
   "metadata": {},
   "outputs": [],
   "source": [
    "def is_multi_word(title):\n",
    "    return len(title.split()) > 1\n",
    "\n",
    "def find_references_title(description, books, current_book):\n",
    "    references = []\n",
    "\n",
    "    for book in books:\n",
    "        author = book[\"Authors\"]\n",
    "        title = book[\"Title\"]\n",
    "        if pd.isna(author) or author is None:\n",
    "            continue \n",
    "\n",
    "        book_id = f\"{book['Title']} ({book['Authors']})\"\n",
    "\n",
    "        if book_id != current_book and len(title) > 3 and is_multi_word(title):\n",
    "            if title in description:  \n",
    "                references.append(book_id) \n",
    "\n",
    "    return references"
   ]
  },
  {
   "cell_type": "markdown",
   "metadata": {},
   "source": [
    "Save the graph in json format."
   ]
  },
  {
   "cell_type": "code",
   "execution_count": null,
   "metadata": {},
   "outputs": [],
   "source": [
    "def save_graph(graph, relative_path):\n",
    "    save_path =  os.path.join(PROJECT_ROOT, relative_path)\n",
    "    graph_data = json_graph.node_link_data(graph)\n",
    "    with open(save_path, \"w\") as f:\n",
    "        json.dump(graph_data, f, indent=4)"
   ]
  },
  {
   "cell_type": "code",
   "execution_count": 42,
   "metadata": {},
   "outputs": [],
   "source": [
    "def find_neighbors_title(Graph, title):\n",
    "    matching_nodes = [node for node in Graph.nodes if node.startswith(f\"{title} (\")]\n",
    "    all_neighbors = set()  \n",
    "    \n",
    "    for node in matching_nodes:\n",
    "        neighbors = list(Graph.neighbors(node))\n",
    "        all_neighbors.update(neighbors)\n",
    "    \n",
    "    titles = [neighbor.rsplit(\" (\", 1)[0] for neighbor in all_neighbors]\n",
    "    return titles"
   ]
  },
  {
   "cell_type": "code",
   "execution_count": 43,
   "metadata": {},
   "outputs": [],
   "source": [
    "def get_records_graph(title, n=10, bonus=1.2):\n",
    "    Graph = load_graph(\"data/graphs/book_graph.json\")\n",
    "    predicted = model.recommend_by_title(title, n=68945)  \n",
    "    predicted_graph = set(find_neighbors_title(Graph, title))  \n",
    "    book_scores = {}  \n",
    "\n",
    "    for book, score in predicted:\n",
    "        adjusted_score = score * bonus if book in predicted_graph else score\n",
    "        if book not in book_scores or adjusted_score > book_scores[book]:\n",
    "            book_scores[book] = adjusted_score \n",
    "\n",
    "    sorted_books = sorted(book_scores.items(), key=lambda x: x[1], reverse=True)\n",
    "\n",
    "    return sorted_books[:n]  \n"
   ]
  },
  {
   "cell_type": "code",
   "execution_count": 48,
   "metadata": {},
   "outputs": [
    {
     "name": "stdout",
     "output_type": "stream",
     "text": [
      "[('We', np.float32(1.1027404)), ('Animal Farm', np.float32(1.0987049)), (\"Snowball's Chance\", np.float32(1.094665)), (\"Orwell's Nineteen Eighty-four\", np.float32(1.0945809)), ('The Middle Stories', np.float32(1.08216)), ('Into the Forest', np.float32(1.0791802)), ('Mil novecientos ochenta y cuatro', np.float32(1.078745)), ('That Hideous Strength', np.float32(1.0694191)), ('Rebelión en la Granja', np.float32(1.0563898)), ('Mother Night', np.float32(1.0374453))]\n"
     ]
    }
   ],
   "source": [
    "print(get_records_graph(\"1984\", n = 10))"
   ]
  },
  {
   "cell_type": "code",
   "execution_count": 45,
   "metadata": {},
   "outputs": [],
   "source": [
    "def print_all_nodes(Graph):\n",
    "    for node in Graph.nodes():\n",
    "        if len(list(Graph.neighbors(node))) > 0: \n",
    "            print(f\"{node} references: {list(Graph.neighbors(node))}\")"
   ]
  }
 ],
 "metadata": {
  "kernelspec": {
   "display_name": "Python 3",
   "language": "python",
   "name": "python3"
  },
  "language_info": {
   "codemirror_mode": {
    "name": "ipython",
    "version": 3
   },
   "file_extension": ".py",
   "mimetype": "text/x-python",
   "name": "python",
   "nbconvert_exporter": "python",
   "pygments_lexer": "ipython3",
   "version": "3.12.6"
  }
 },
 "nbformat": 4,
 "nbformat_minor": 2
}
